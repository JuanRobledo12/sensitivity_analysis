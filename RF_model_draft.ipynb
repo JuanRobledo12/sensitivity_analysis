{
 "cells": [
  {
   "cell_type": "code",
   "execution_count": 2,
   "metadata": {},
   "outputs": [],
   "source": [
    "import numpy as np\n",
    "import pandas as pd\n",
    "from sklearn.ensemble import IsolationForest, RandomForestRegressor\n",
    "from sklearn.model_selection import train_test_split\n",
    "from sklearn.metrics import mean_squared_error, r2_score\n",
    "from sklearn.pipeline import Pipeline\n",
    "from sklearn.preprocessing import StandardScaler, RobustScaler\n",
    "from sklearn.feature_selection import SelectFromModel\n",
    "import os\n",
    "from utils.utils import HelperFunctions\n",
    "import matplotlib.pyplot as plt"
   ]
  },
  {
   "cell_type": "code",
   "execution_count": 3,
   "metadata": {},
   "outputs": [],
   "source": [
    "%load_ext autoreload\n",
    "%autoreload 2"
   ]
  },
  {
   "cell_type": "code",
   "execution_count": 4,
   "metadata": {},
   "outputs": [],
   "source": [
    "helpers = HelperFunctions()"
   ]
  },
  {
   "cell_type": "code",
   "execution_count": 5,
   "metadata": {},
   "outputs": [],
   "source": [
    "country_name = 'croatia'\n",
    "lhc_sampled_data_path = 'lhc_sampled_data'\n",
    "attributes_csv_path = os.path.join(lhc_sampled_data_path, f'lhp_sampled_{country_name}_attributes.csv')\n",
    "targets_csv_path = os.path.join(lhc_sampled_data_path, f'lhp_sampled_{country_name}_targets.csv')"
   ]
  },
  {
   "cell_type": "markdown",
   "metadata": {},
   "source": [
    "## Let's start by cleaning the attributes data before merging the target variables."
   ]
  },
  {
   "cell_type": "code",
   "execution_count": 6,
   "metadata": {},
   "outputs": [
    {
     "name": "stdout",
     "output_type": "stream",
     "text": [
      "Attributes df initial shape:  (100, 2035)\n"
     ]
    },
    {
     "data": {
      "text/html": [
       "<div>\n",
       "<style scoped>\n",
       "    .dataframe tbody tr th:only-of-type {\n",
       "        vertical-align: middle;\n",
       "    }\n",
       "\n",
       "    .dataframe tbody tr th {\n",
       "        vertical-align: top;\n",
       "    }\n",
       "\n",
       "    .dataframe thead th {\n",
       "        text-align: right;\n",
       "    }\n",
       "</style>\n",
       "<table border=\"1\" class=\"dataframe\">\n",
       "  <thead>\n",
       "    <tr style=\"text-align: right;\">\n",
       "      <th></th>\n",
       "      <th>id</th>\n",
       "      <th>avgload_trns_freight_tonne_per_vehicle_aviation</th>\n",
       "      <th>avgload_trns_freight_tonne_per_vehicle_rail_freight</th>\n",
       "      <th>avgload_trns_freight_tonne_per_vehicle_road_heavy_freight</th>\n",
       "      <th>avgload_trns_freight_tonne_per_vehicle_water_borne</th>\n",
       "      <th>avgmass_lvst_animal_buffalo_kg</th>\n",
       "      <th>avgmass_lvst_animal_cattle_dairy_kg</th>\n",
       "      <th>avgmass_lvst_animal_cattle_nondairy_kg</th>\n",
       "      <th>avgmass_lvst_animal_chickens_kg</th>\n",
       "      <th>avgmass_lvst_animal_goats_kg</th>\n",
       "      <th>avgmass_lvst_animal_horses_kg</th>\n",
       "      <th>avgmass_lvst_animal_mules_kg</th>\n",
       "      <th>avgmass_lvst_animal_pigs_kg</th>\n",
       "      <th>avgmass_lvst_animal_sheep_kg</th>\n",
       "      <th>climate_change_factor_gnrl_hydropower_availability</th>\n",
       "      <th>consumpinit_inen_energy_tj_per_mmm_gdp_other_product_manufacturing</th>\n",
       "      <th>consumpinit_inen_energy_tj_per_tonne_production_cement</th>\n",
       "      <th>consumpinit_inen_energy_tj_per_tonne_production_chemicals</th>\n",
       "      <th>consumpinit_inen_energy_tj_per_tonne_production_electronics</th>\n",
       "      <th>consumpinit_inen_energy_tj_per_tonne_production_glass</th>\n",
       "      <th>consumpinit_inen_energy_tj_per_tonne_production_lime_and_carbonite</th>\n",
       "      <th>consumpinit_inen_energy_tj_per_tonne_production_metals</th>\n",
       "      <th>consumpinit_inen_energy_tj_per_tonne_production_mining</th>\n",
       "      <th>consumpinit_inen_energy_tj_per_tonne_production_paper</th>\n",
       "      <th>consumpinit_inen_energy_tj_per_tonne_production_plastic</th>\n",
       "      <th>consumpinit_inen_energy_tj_per_tonne_production_recycled_glass</th>\n",
       "      <th>consumpinit_inen_energy_tj_per_tonne_production_recycled_metals</th>\n",
       "      <th>consumpinit_inen_energy_tj_per_tonne_production_recycled_paper</th>\n",
       "      <th>consumpinit_inen_energy_tj_per_tonne_production_recycled_plastic</th>\n",
       "      <th>consumpinit_inen_energy_tj_per_tonne_production_recycled_rubber_and_leather</th>\n",
       "      <th>consumpinit_inen_energy_tj_per_tonne_production_recycled_textiles</th>\n",
       "      <th>consumpinit_inen_energy_tj_per_tonne_production_recycled_wood</th>\n",
       "      <th>consumpinit_inen_energy_tj_per_tonne_production_rubber_and_leather</th>\n",
       "      <th>consumpinit_inen_energy_tj_per_tonne_production_textiles</th>\n",
       "      <th>consumpinit_inen_energy_tj_per_tonne_production_wood</th>\n",
       "      <th>consumpinit_inen_energy_total_pj_agriculture_and_livestock</th>\n",
       "      <th>consumpinit_scoe_gj_per_hh_residential_elec_appliances</th>\n",
       "      <th>consumpinit_scoe_gj_per_hh_residential_heat_energy</th>\n",
       "      <th>consumpinit_scoe_tj_per_mmmgdp_commercial_municipal_elec_appliances</th>\n",
       "      <th>consumpinit_scoe_tj_per_mmmgdp_commercial_municipal_heat_energy</th>\n",
       "      <th>...</th>\n",
       "      <th>ratio_agrc_below_ground_to_above_ground_biomass_pulses</th>\n",
       "      <th>ratio_agrc_below_ground_to_above_ground_biomass_rice</th>\n",
       "      <th>ratio_agrc_below_ground_to_above_ground_biomass_tubers</th>\n",
       "      <th>ratio_lsmm_n2_to_n2o</th>\n",
       "      <th>regressionb_agrc_above_ground_residue_cereals_kg_per_ha</th>\n",
       "      <th>regressionb_agrc_above_ground_residue_other_annual_kg_per_ha</th>\n",
       "      <th>regressionb_agrc_above_ground_residue_pulses_kg_per_ha</th>\n",
       "      <th>regressionb_agrc_above_ground_residue_rice_kg_per_ha</th>\n",
       "      <th>regressionb_agrc_above_ground_residue_tubers_kg_per_ha</th>\n",
       "      <th>regressionm_agrc_above_ground_residue_cereals_kg_per_ha</th>\n",
       "      <th>regressionm_agrc_above_ground_residue_other_annual_kg_per_ha</th>\n",
       "      <th>regressionm_agrc_above_ground_residue_pulses_kg_per_ha</th>\n",
       "      <th>regressionm_agrc_above_ground_residue_rice_kg_per_ha</th>\n",
       "      <th>regressionm_agrc_above_ground_residue_tubers_kg_per_ha</th>\n",
       "      <th>strategy_id</th>\n",
       "      <th>cost_enfu_fuel_ammonia_usd_per_tonne</th>\n",
       "      <th>ef_enfu_combustion_tonne_co2_per_tj_fuel_ammonia</th>\n",
       "      <th>ef_trns_mobile_combustion_water_borne_kg_n2o_per_tj_ammonia</th>\n",
       "      <th>ef_enfu_stationary_combustion_tonne_ch4_per_tj_fuel_ammonia</th>\n",
       "      <th>ef_enfu_stationary_combustion_tonne_n2o_per_tj_fuel_ammonia</th>\n",
       "      <th>exports_enfu_pj_fuel_ammonia</th>\n",
       "      <th>frac_enfu_fuel_demand_imported_pj_fuel_ammonia</th>\n",
       "      <th>nemomod_entc_capital_cost_fp_ammonia_production_mm_usd_per_gw</th>\n",
       "      <th>nemomod_entc_capital_cost_fp_hydrogen_reformation_ccs_mm_usd_per_gw</th>\n",
       "      <th>nemomod_entc_emissions_activity_ratio_fuel_production_fp_hydrogen_reformation_ccs_tonne_co2_per_tj</th>\n",
       "      <th>nemomod_entc_emissions_activity_ratio_scalar_fp_hydrogen_reformation_ccs_co2</th>\n",
       "      <th>nemomod_entc_fixed_cost_fp_ammonia_production_mm_usd_per_gw</th>\n",
       "      <th>nemomod_entc_fixed_cost_fp_hydrogen_reformation_ccs_mm_usd_per_gw</th>\n",
       "      <th>nemomod_entc_input_activity_ratio_fuel_production_fp_ammonia_production_electricity</th>\n",
       "      <th>nemomod_entc_input_activity_ratio_fuel_production_fp_ammonia_production_hydrogen</th>\n",
       "      <th>nemomod_entc_input_activity_ratio_fuel_production_fp_hydrogen_electrolysis_water</th>\n",
       "      <th>nemomod_entc_input_activity_ratio_fuel_production_fp_hydrogen_reformation_ccs_electricity</th>\n",
       "      <th>energydensity_gravimetric_enfu_gj_per_tonne_fuel_ammonia</th>\n",
       "      <th>energydensity_gravimetric_enfu_gj_per_tonne_fuel_water</th>\n",
       "      <th>frac_trns_fuelmix_water_borne_ammonia</th>\n",
       "      <th>nemomod_entc_output_activity_ratio_fuel_production_fp_ammonia_production_ammonia</th>\n",
       "      <th>nemomod_entc_output_activity_ratio_fuel_production_fp_hydrogen_reformation_ccs_hydrogen</th>\n",
       "      <th>nemomod_entc_frac_min_share_production_fp_hydrogen_reformation_ccs</th>\n",
       "      <th>nemomod_entc_input_activity_ratio_fuel_production_fp_hydrogen_reformation_ccs_natural_gas</th>\n",
       "      <th>nemomod_entc_input_activity_ratio_fuel_production_fp_hydrogen_reformation_ccs_oil</th>\n",
       "    </tr>\n",
       "  </thead>\n",
       "  <tbody>\n",
       "    <tr>\n",
       "      <th>0</th>\n",
       "      <td>1</td>\n",
       "      <td>24.710787</td>\n",
       "      <td>4489.683385</td>\n",
       "      <td>18.099774</td>\n",
       "      <td>8079.682063</td>\n",
       "      <td>176.598032</td>\n",
       "      <td>703.591171</td>\n",
       "      <td>356.834604</td>\n",
       "      <td>1.434227</td>\n",
       "      <td>16.667950</td>\n",
       "      <td>361.081291</td>\n",
       "      <td>142.560720</td>\n",
       "      <td>98.786407</td>\n",
       "      <td>49.794633</td>\n",
       "      <td>0.733939</td>\n",
       "      <td>391.090186</td>\n",
       "      <td>0.001261</td>\n",
       "      <td>0.010033</td>\n",
       "      <td>0.002424</td>\n",
       "      <td>0.040123</td>\n",
       "      <td>0.024168</td>\n",
       "      <td>0.002018</td>\n",
       "      <td>0.003346</td>\n",
       "      <td>0.000370</td>\n",
       "      <td>0.006981</td>\n",
       "      <td>0.031643</td>\n",
       "      <td>0.001510</td>\n",
       "      <td>0.007021</td>\n",
       "      <td>0.002089</td>\n",
       "      <td>0.207280</td>\n",
       "      <td>0.009755</td>\n",
       "      <td>0.000279</td>\n",
       "      <td>0.138741</td>\n",
       "      <td>0.007968</td>\n",
       "      <td>0.0</td>\n",
       "      <td>15.813190</td>\n",
       "      <td>7.315589</td>\n",
       "      <td>50.929632</td>\n",
       "      <td>1288.415595</td>\n",
       "      <td>255.215269</td>\n",
       "      <td>...</td>\n",
       "      <td>0.345766</td>\n",
       "      <td>0.252155</td>\n",
       "      <td>0.131978</td>\n",
       "      <td>6.825901</td>\n",
       "      <td>0.393849</td>\n",
       "      <td>2.512417</td>\n",
       "      <td>0.117470</td>\n",
       "      <td>0.281104</td>\n",
       "      <td>1.897409</td>\n",
       "      <td>0.070255</td>\n",
       "      <td>0.713673</td>\n",
       "      <td>0.726921</td>\n",
       "      <td>0.245747</td>\n",
       "      <td>0.017877</td>\n",
       "      <td>0.0</td>\n",
       "      <td>136.918598</td>\n",
       "      <td>0.0</td>\n",
       "      <td>0.000064</td>\n",
       "      <td>0.0</td>\n",
       "      <td>0.000024</td>\n",
       "      <td>0.234597</td>\n",
       "      <td>0.0</td>\n",
       "      <td>0.0</td>\n",
       "      <td>2034.379289</td>\n",
       "      <td>25.462596</td>\n",
       "      <td>0.227235</td>\n",
       "      <td>1.276943</td>\n",
       "      <td>199.597344</td>\n",
       "      <td>0.559745</td>\n",
       "      <td>0.245829</td>\n",
       "      <td>0.000006</td>\n",
       "      <td>0.0</td>\n",
       "      <td>4.833099</td>\n",
       "      <td>0.000037</td>\n",
       "      <td>-0.0</td>\n",
       "      <td>0.928258</td>\n",
       "      <td>1.120070</td>\n",
       "      <td>0.0</td>\n",
       "      <td>0.460561</td>\n",
       "      <td>0.0</td>\n",
       "    </tr>\n",
       "    <tr>\n",
       "      <th>1</th>\n",
       "      <td>2</td>\n",
       "      <td>82.795555</td>\n",
       "      <td>4242.081540</td>\n",
       "      <td>46.172685</td>\n",
       "      <td>2215.506596</td>\n",
       "      <td>352.946821</td>\n",
       "      <td>735.542201</td>\n",
       "      <td>300.632048</td>\n",
       "      <td>0.215308</td>\n",
       "      <td>45.226970</td>\n",
       "      <td>145.089209</td>\n",
       "      <td>224.982596</td>\n",
       "      <td>60.336154</td>\n",
       "      <td>39.508220</td>\n",
       "      <td>0.830388</td>\n",
       "      <td>345.419738</td>\n",
       "      <td>0.001189</td>\n",
       "      <td>0.042832</td>\n",
       "      <td>0.003972</td>\n",
       "      <td>0.072653</td>\n",
       "      <td>0.015257</td>\n",
       "      <td>0.000420</td>\n",
       "      <td>0.000225</td>\n",
       "      <td>0.003328</td>\n",
       "      <td>0.009670</td>\n",
       "      <td>0.079768</td>\n",
       "      <td>0.000912</td>\n",
       "      <td>0.004136</td>\n",
       "      <td>0.006789</td>\n",
       "      <td>0.056942</td>\n",
       "      <td>0.002803</td>\n",
       "      <td>0.001949</td>\n",
       "      <td>0.168986</td>\n",
       "      <td>0.006034</td>\n",
       "      <td>0.0</td>\n",
       "      <td>10.452408</td>\n",
       "      <td>61.963765</td>\n",
       "      <td>33.761677</td>\n",
       "      <td>1154.717193</td>\n",
       "      <td>109.347401</td>\n",
       "      <td>...</td>\n",
       "      <td>0.083576</td>\n",
       "      <td>0.069594</td>\n",
       "      <td>0.207075</td>\n",
       "      <td>3.335643</td>\n",
       "      <td>1.743498</td>\n",
       "      <td>0.552301</td>\n",
       "      <td>0.790608</td>\n",
       "      <td>4.684942</td>\n",
       "      <td>2.112936</td>\n",
       "      <td>0.528246</td>\n",
       "      <td>0.160449</td>\n",
       "      <td>1.636424</td>\n",
       "      <td>1.059355</td>\n",
       "      <td>0.001701</td>\n",
       "      <td>0.0</td>\n",
       "      <td>76.583562</td>\n",
       "      <td>0.0</td>\n",
       "      <td>0.000052</td>\n",
       "      <td>0.0</td>\n",
       "      <td>0.000032</td>\n",
       "      <td>0.188284</td>\n",
       "      <td>0.0</td>\n",
       "      <td>0.0</td>\n",
       "      <td>2250.936133</td>\n",
       "      <td>7.605128</td>\n",
       "      <td>1.465831</td>\n",
       "      <td>13.278804</td>\n",
       "      <td>150.545200</td>\n",
       "      <td>0.403525</td>\n",
       "      <td>0.006746</td>\n",
       "      <td>0.000005</td>\n",
       "      <td>0.0</td>\n",
       "      <td>34.314836</td>\n",
       "      <td>0.000013</td>\n",
       "      <td>-0.0</td>\n",
       "      <td>0.372282</td>\n",
       "      <td>1.650065</td>\n",
       "      <td>0.0</td>\n",
       "      <td>1.386376</td>\n",
       "      <td>0.0</td>\n",
       "    </tr>\n",
       "    <tr>\n",
       "      <th>2</th>\n",
       "      <td>3</td>\n",
       "      <td>29.389452</td>\n",
       "      <td>3821.007643</td>\n",
       "      <td>32.169460</td>\n",
       "      <td>6513.009102</td>\n",
       "      <td>484.102070</td>\n",
       "      <td>96.626645</td>\n",
       "      <td>117.653888</td>\n",
       "      <td>0.820549</td>\n",
       "      <td>21.801862</td>\n",
       "      <td>223.809918</td>\n",
       "      <td>158.952667</td>\n",
       "      <td>95.672098</td>\n",
       "      <td>46.394985</td>\n",
       "      <td>1.380288</td>\n",
       "      <td>398.423061</td>\n",
       "      <td>0.000362</td>\n",
       "      <td>0.001358</td>\n",
       "      <td>0.009850</td>\n",
       "      <td>0.044288</td>\n",
       "      <td>0.014492</td>\n",
       "      <td>0.000169</td>\n",
       "      <td>0.000316</td>\n",
       "      <td>0.007989</td>\n",
       "      <td>0.007539</td>\n",
       "      <td>0.049419</td>\n",
       "      <td>0.000073</td>\n",
       "      <td>0.004350</td>\n",
       "      <td>0.010339</td>\n",
       "      <td>0.102034</td>\n",
       "      <td>0.010740</td>\n",
       "      <td>0.000512</td>\n",
       "      <td>0.243450</td>\n",
       "      <td>0.005591</td>\n",
       "      <td>0.0</td>\n",
       "      <td>19.621241</td>\n",
       "      <td>65.535520</td>\n",
       "      <td>45.202221</td>\n",
       "      <td>356.576581</td>\n",
       "      <td>215.764346</td>\n",
       "      <td>...</td>\n",
       "      <td>0.302451</td>\n",
       "      <td>0.133934</td>\n",
       "      <td>0.055648</td>\n",
       "      <td>3.200401</td>\n",
       "      <td>1.517624</td>\n",
       "      <td>0.322065</td>\n",
       "      <td>1.371246</td>\n",
       "      <td>1.963729</td>\n",
       "      <td>1.067015</td>\n",
       "      <td>1.492429</td>\n",
       "      <td>0.835828</td>\n",
       "      <td>0.700920</td>\n",
       "      <td>1.433190</td>\n",
       "      <td>0.068685</td>\n",
       "      <td>0.0</td>\n",
       "      <td>33.586449</td>\n",
       "      <td>0.0</td>\n",
       "      <td>0.000188</td>\n",
       "      <td>0.0</td>\n",
       "      <td>0.000172</td>\n",
       "      <td>0.040704</td>\n",
       "      <td>0.0</td>\n",
       "      <td>0.0</td>\n",
       "      <td>1725.183057</td>\n",
       "      <td>5.313338</td>\n",
       "      <td>0.595858</td>\n",
       "      <td>3.821899</td>\n",
       "      <td>6.147327</td>\n",
       "      <td>0.277577</td>\n",
       "      <td>0.307575</td>\n",
       "      <td>0.000006</td>\n",
       "      <td>0.0</td>\n",
       "      <td>24.214540</td>\n",
       "      <td>0.000058</td>\n",
       "      <td>0.0</td>\n",
       "      <td>1.739732</td>\n",
       "      <td>0.823820</td>\n",
       "      <td>0.0</td>\n",
       "      <td>1.737484</td>\n",
       "      <td>0.0</td>\n",
       "    </tr>\n",
       "    <tr>\n",
       "      <th>3</th>\n",
       "      <td>4</td>\n",
       "      <td>27.482486</td>\n",
       "      <td>2128.833735</td>\n",
       "      <td>20.258220</td>\n",
       "      <td>864.973857</td>\n",
       "      <td>3.166322</td>\n",
       "      <td>12.814583</td>\n",
       "      <td>106.712876</td>\n",
       "      <td>1.099456</td>\n",
       "      <td>7.039976</td>\n",
       "      <td>206.991967</td>\n",
       "      <td>246.755821</td>\n",
       "      <td>73.295303</td>\n",
       "      <td>45.461954</td>\n",
       "      <td>1.200245</td>\n",
       "      <td>286.246985</td>\n",
       "      <td>0.000854</td>\n",
       "      <td>0.011723</td>\n",
       "      <td>0.015074</td>\n",
       "      <td>0.042129</td>\n",
       "      <td>0.005360</td>\n",
       "      <td>0.001545</td>\n",
       "      <td>0.002644</td>\n",
       "      <td>0.007563</td>\n",
       "      <td>0.002400</td>\n",
       "      <td>0.077305</td>\n",
       "      <td>0.001445</td>\n",
       "      <td>0.009181</td>\n",
       "      <td>0.000179</td>\n",
       "      <td>0.237292</td>\n",
       "      <td>0.001453</td>\n",
       "      <td>0.001694</td>\n",
       "      <td>0.081147</td>\n",
       "      <td>0.010256</td>\n",
       "      <td>0.0</td>\n",
       "      <td>4.080872</td>\n",
       "      <td>39.652885</td>\n",
       "      <td>50.486199</td>\n",
       "      <td>1144.809087</td>\n",
       "      <td>943.380356</td>\n",
       "      <td>...</td>\n",
       "      <td>0.151157</td>\n",
       "      <td>0.144818</td>\n",
       "      <td>0.156147</td>\n",
       "      <td>2.840365</td>\n",
       "      <td>0.152802</td>\n",
       "      <td>2.355690</td>\n",
       "      <td>1.054242</td>\n",
       "      <td>1.460902</td>\n",
       "      <td>1.192865</td>\n",
       "      <td>1.996280</td>\n",
       "      <td>1.838505</td>\n",
       "      <td>0.833417</td>\n",
       "      <td>1.852441</td>\n",
       "      <td>0.112208</td>\n",
       "      <td>0.0</td>\n",
       "      <td>84.094370</td>\n",
       "      <td>0.0</td>\n",
       "      <td>0.000016</td>\n",
       "      <td>0.0</td>\n",
       "      <td>0.000167</td>\n",
       "      <td>0.107063</td>\n",
       "      <td>0.0</td>\n",
       "      <td>0.0</td>\n",
       "      <td>1460.031180</td>\n",
       "      <td>35.796390</td>\n",
       "      <td>1.403317</td>\n",
       "      <td>17.146622</td>\n",
       "      <td>63.466731</td>\n",
       "      <td>0.224748</td>\n",
       "      <td>0.315168</td>\n",
       "      <td>0.000004</td>\n",
       "      <td>0.0</td>\n",
       "      <td>28.032882</td>\n",
       "      <td>0.000005</td>\n",
       "      <td>0.0</td>\n",
       "      <td>0.770005</td>\n",
       "      <td>1.365084</td>\n",
       "      <td>0.0</td>\n",
       "      <td>1.439034</td>\n",
       "      <td>0.0</td>\n",
       "    </tr>\n",
       "    <tr>\n",
       "      <th>4</th>\n",
       "      <td>5</td>\n",
       "      <td>8.406973</td>\n",
       "      <td>4559.113402</td>\n",
       "      <td>6.204150</td>\n",
       "      <td>7470.371705</td>\n",
       "      <td>574.362083</td>\n",
       "      <td>529.520110</td>\n",
       "      <td>461.905189</td>\n",
       "      <td>1.592327</td>\n",
       "      <td>22.625252</td>\n",
       "      <td>229.334870</td>\n",
       "      <td>248.430588</td>\n",
       "      <td>107.760251</td>\n",
       "      <td>47.340852</td>\n",
       "      <td>1.920272</td>\n",
       "      <td>167.662950</td>\n",
       "      <td>0.000702</td>\n",
       "      <td>0.013011</td>\n",
       "      <td>0.008159</td>\n",
       "      <td>0.013659</td>\n",
       "      <td>0.008939</td>\n",
       "      <td>0.000730</td>\n",
       "      <td>0.003219</td>\n",
       "      <td>0.003979</td>\n",
       "      <td>0.001291</td>\n",
       "      <td>0.065690</td>\n",
       "      <td>0.000475</td>\n",
       "      <td>0.009310</td>\n",
       "      <td>0.001745</td>\n",
       "      <td>0.001623</td>\n",
       "      <td>0.002343</td>\n",
       "      <td>0.006202</td>\n",
       "      <td>0.054848</td>\n",
       "      <td>0.008549</td>\n",
       "      <td>0.0</td>\n",
       "      <td>8.748894</td>\n",
       "      <td>23.917851</td>\n",
       "      <td>9.630910</td>\n",
       "      <td>880.601380</td>\n",
       "      <td>450.122726</td>\n",
       "      <td>...</td>\n",
       "      <td>0.001066</td>\n",
       "      <td>0.138412</td>\n",
       "      <td>0.213613</td>\n",
       "      <td>8.450674</td>\n",
       "      <td>0.565030</td>\n",
       "      <td>0.884859</td>\n",
       "      <td>0.262924</td>\n",
       "      <td>1.183685</td>\n",
       "      <td>1.035597</td>\n",
       "      <td>2.033141</td>\n",
       "      <td>0.471891</td>\n",
       "      <td>1.928871</td>\n",
       "      <td>0.997843</td>\n",
       "      <td>0.126919</td>\n",
       "      <td>0.0</td>\n",
       "      <td>121.358610</td>\n",
       "      <td>0.0</td>\n",
       "      <td>0.000135</td>\n",
       "      <td>0.0</td>\n",
       "      <td>0.000166</td>\n",
       "      <td>1.634057</td>\n",
       "      <td>0.0</td>\n",
       "      <td>0.0</td>\n",
       "      <td>116.678103</td>\n",
       "      <td>33.996843</td>\n",
       "      <td>0.626410</td>\n",
       "      <td>18.681334</td>\n",
       "      <td>299.294584</td>\n",
       "      <td>0.060577</td>\n",
       "      <td>0.179534</td>\n",
       "      <td>0.000004</td>\n",
       "      <td>0.0</td>\n",
       "      <td>25.120228</td>\n",
       "      <td>0.000030</td>\n",
       "      <td>0.0</td>\n",
       "      <td>0.216940</td>\n",
       "      <td>1.395696</td>\n",
       "      <td>0.0</td>\n",
       "      <td>1.576262</td>\n",
       "      <td>0.0</td>\n",
       "    </tr>\n",
       "  </tbody>\n",
       "</table>\n",
       "<p>5 rows × 2035 columns</p>\n",
       "</div>"
      ],
      "text/plain": [
       "   id  ...  nemomod_entc_input_activity_ratio_fuel_production_fp_hydrogen_reformation_ccs_oil\n",
       "0   1  ...                                                0.0                                \n",
       "1   2  ...                                                0.0                                \n",
       "2   3  ...                                                0.0                                \n",
       "3   4  ...                                                0.0                                \n",
       "4   5  ...                                                0.0                                \n",
       "\n",
       "[5 rows x 2035 columns]"
      ]
     },
     "execution_count": 6,
     "metadata": {},
     "output_type": "execute_result"
    }
   ],
   "source": [
    "df_attributes = pd.read_csv(attributes_csv_path)\n",
    "print('Attributes df initial shape: ', df_attributes.shape)\n",
    "df_attributes.head()"
   ]
  },
  {
   "cell_type": "code",
   "execution_count": 7,
   "metadata": {},
   "outputs": [
    {
     "name": "stdout",
     "output_type": "stream",
     "text": [
      "<class 'pandas.core.frame.DataFrame'>\n",
      "RangeIndex: 100 entries, 0 to 99\n",
      "Columns: 2035 entries, id to nemomod_entc_input_activity_ratio_fuel_production_fp_hydrogen_reformation_ccs_oil\n",
      "dtypes: float64(2034), int64(1)\n",
      "memory usage: 1.6 MB\n"
     ]
    }
   ],
   "source": [
    "df_attributes.info()"
   ]
  },
  {
   "cell_type": "markdown",
   "metadata": {},
   "source": [
    "### Check NaNs"
   ]
  },
  {
   "cell_type": "code",
   "execution_count": 8,
   "metadata": {},
   "outputs": [
    {
     "name": "stdout",
     "output_type": "stream",
     "text": [
      "No null values found\n"
     ]
    }
   ],
   "source": [
    "# Check for cols with null values\n",
    "null_columns = helpers.check_null_values(df_attributes)"
   ]
  },
  {
   "cell_type": "code",
   "execution_count": 9,
   "metadata": {},
   "outputs": [
    {
     "data": {
      "text/html": [
       "<div>\n",
       "<style scoped>\n",
       "    .dataframe tbody tr th:only-of-type {\n",
       "        vertical-align: middle;\n",
       "    }\n",
       "\n",
       "    .dataframe tbody tr th {\n",
       "        vertical-align: top;\n",
       "    }\n",
       "\n",
       "    .dataframe thead th {\n",
       "        text-align: right;\n",
       "    }\n",
       "</style>\n",
       "<table border=\"1\" class=\"dataframe\">\n",
       "  <thead>\n",
       "    <tr style=\"text-align: right;\">\n",
       "      <th></th>\n",
       "    </tr>\n",
       "  </thead>\n",
       "  <tbody>\n",
       "    <tr>\n",
       "      <th>0</th>\n",
       "    </tr>\n",
       "    <tr>\n",
       "      <th>1</th>\n",
       "    </tr>\n",
       "    <tr>\n",
       "      <th>2</th>\n",
       "    </tr>\n",
       "    <tr>\n",
       "      <th>3</th>\n",
       "    </tr>\n",
       "    <tr>\n",
       "      <th>4</th>\n",
       "    </tr>\n",
       "  </tbody>\n",
       "</table>\n",
       "</div>"
      ],
      "text/plain": [
       "Empty DataFrame\n",
       "Columns: []\n",
       "Index: [0, 1, 2, 3, 4]"
      ]
     },
     "execution_count": 9,
     "metadata": {},
     "output_type": "execute_result"
    }
   ],
   "source": [
    "df_attributes[null_columns].head()"
   ]
  },
  {
   "cell_type": "code",
   "execution_count": 10,
   "metadata": {},
   "outputs": [
    {
     "name": "stdout",
     "output_type": "stream",
     "text": [
      "Attributes df shape after using dropna:  (100, 2035)\n"
     ]
    }
   ],
   "source": [
    "# For now we drop if there is any NaN. It seems our attributes do not have NaNs so this is just for safety\n",
    "df_attributes.dropna(axis=0, inplace=True)\n",
    "print('Attributes df shape after using dropna: ', df_attributes.shape)"
   ]
  },
  {
   "cell_type": "code",
   "execution_count": 11,
   "metadata": {},
   "outputs": [
    {
     "name": "stdout",
     "output_type": "stream",
     "text": [
      "No null values found\n"
     ]
    },
    {
     "data": {
      "text/plain": [
       "[]"
      ]
     },
     "execution_count": 11,
     "metadata": {},
     "output_type": "execute_result"
    }
   ],
   "source": [
    "# Double check\n",
    "helpers.check_null_values(df_attributes)"
   ]
  },
  {
   "cell_type": "markdown",
   "metadata": {},
   "source": [
    "### Check cols that have the same value repeated\n",
    "\n",
    "- If they are all 0 they can be dropped.\n",
    "- If they have the same number they will not contribute to the variation we need."
   ]
  },
  {
   "cell_type": "code",
   "execution_count": 12,
   "metadata": {},
   "outputs": [
    {
     "name": "stdout",
     "output_type": "stream",
     "text": [
      "The following columns have repeated values across all rows: \n",
      " ['consumpinit_inen_energy_tj_per_tonne_production_wood', 'consumpinit_scoe_tj_per_mmmgdp_other_se_elec_appliances', 'consumpinit_scoe_tj_per_mmmgdp_other_se_heat_energy', 'ef_fgtv_production_fugitive_tonne_ch4_per_m3_fuel_coal', 'ef_fgtv_production_fugitive_tonne_co2_per_m3_fuel_coal', 'ef_fgtv_production_venting_tonne_n2o_per_m3_fuel_oil', 'ef_fgtv_transmission_tonne_n2o_per_m3_fuel_oil', 'ef_ippu_tonne_c2f6_per_mmm_gdp_product_use_ods_other', 'ef_ippu_tonne_c2f6_per_tonne_production_chemicals', 'ef_ippu_tonne_c2f6_per_tonne_production_electronics', 'ef_ippu_tonne_c2f6_per_tonne_production_metals', 'ef_ippu_tonne_c2h3f3_per_tonne_production_chemicals', 'ef_ippu_tonne_c2hf5_per_tonne_production_chemicals', 'ef_ippu_tonne_c3f8_per_tonne_production_chemicals', 'ef_ippu_tonne_c3f8_per_tonne_production_electronics', 'ef_ippu_tonne_c3h2f6_per_mmm_gdp_product_use_ods_other', 'ef_ippu_tonne_c3h2f6_per_mmm_gdp_product_use_ods_refrigeration', 'ef_ippu_tonne_c3h3f5_per_mmm_gdp_product_use_ods_other', 'ef_ippu_tonne_c3h3f5_per_mmm_gdp_product_use_ods_refrigeration', 'ef_ippu_tonne_c3hf7_per_mmm_gdp_product_use_ods_other', 'ef_ippu_tonne_c3hf7_per_mmm_gdp_product_use_ods_refrigeration', 'ef_ippu_tonne_c3hf7_per_tonne_production_chemicals', 'ef_ippu_tonne_c4f10_per_mmm_gdp_product_use_ods_other', 'ef_ippu_tonne_c4f10_per_tonne_production_chemicals', 'ef_ippu_tonne_c4h5f5_per_mmm_gdp_product_use_ods_other', 'ef_ippu_tonne_c4h5f5_per_tonne_production_chemicals', 'ef_ippu_tonne_c5f12_per_tonne_production_chemicals', 'ef_ippu_tonne_c5h2f10_per_mmm_gdp_product_use_ods_other', 'ef_ippu_tonne_c6f14_per_mmm_gdp_product_use_ods_other', 'ef_ippu_tonne_c6f14_per_tonne_production_chemicals', 'ef_ippu_tonne_cc4f8_per_tonne_production_chemicals', 'ef_ippu_tonne_cc4f8_per_tonne_production_electronics', 'ef_ippu_tonne_cf4_per_mmm_gdp_product_use_ods_other', 'ef_ippu_tonne_cf4_per_tonne_production_chemicals', 'ef_ippu_tonne_cf4_per_tonne_production_electronics', 'ef_ippu_tonne_cf4_per_tonne_production_metals', 'ef_ippu_tonne_ch2f2_per_tonne_production_chemicals', 'ef_ippu_tonne_ch2fchf2_per_mmm_gdp_product_use_ods_refrigeration', 'ef_ippu_tonne_ch3cci2f_per_mmm_gdp_product_use_ods_refrigeration', 'ef_ippu_tonne_ch3ccif2_per_mmm_gdp_product_use_ods_refrigeration', 'ef_ippu_tonne_ch3chf2_per_tonne_production_chemicals', 'ef_ippu_tonne_ch3f_per_tonne_production_electronics', 'ef_ippu_tonne_chf2cf3_per_tonne_production_chemicals', 'ef_ippu_tonne_chf2chf2_per_mmm_gdp_product_use_ods_refrigeration', 'ef_ippu_tonne_chf3_per_mmm_gdp_product_use_ods_other', 'ef_ippu_tonne_chf3_per_mmm_gdp_product_use_ods_refrigeration', 'ef_ippu_tonne_chf3_per_tonne_production_chemicals', 'ef_ippu_tonne_chf3_per_tonne_production_electronics', 'ef_ippu_tonne_nf3_per_tonne_production_chemicals', 'ef_ippu_tonne_nf3_per_tonne_production_electronics', 'ef_ippu_tonne_sf6_per_mmm_gdp_other_product_manufacturing', 'ef_ippu_tonne_sf6_per_tonne_production_chemicals', 'ef_ippu_tonne_sf6_per_tonne_production_electronics', 'ef_ippu_tonne_sf6_per_tonne_production_metals', 'ef_lndu_conv_croplands_to_croplands_gg_co2_ha', 'ef_lndu_conv_croplands_to_forests_mangroves_gg_co2_ha', 'ef_lndu_conv_croplands_to_forests_primary_gg_co2_ha', 'ef_lndu_conv_croplands_to_forests_secondary_gg_co2_ha', 'ef_lndu_conv_croplands_to_grasslands_gg_co2_ha', 'ef_lndu_conv_croplands_to_other_gg_co2_ha', 'ef_lndu_conv_croplands_to_settlements_gg_co2_ha', 'ef_lndu_conv_croplands_to_wetlands_gg_co2_ha', 'ef_lndu_conv_forests_mangroves_to_forests_mangroves_gg_co2_ha', 'ef_lndu_conv_forests_mangroves_to_forests_primary_gg_co2_ha', 'ef_lndu_conv_forests_mangroves_to_forests_secondary_gg_co2_ha', 'ef_lndu_conv_forests_primary_to_forests_mangroves_gg_co2_ha', 'ef_lndu_conv_forests_primary_to_forests_primary_gg_co2_ha', 'ef_lndu_conv_forests_primary_to_forests_secondary_gg_co2_ha', 'ef_lndu_conv_forests_secondary_to_forests_mangroves_gg_co2_ha', 'ef_lndu_conv_forests_secondary_to_forests_primary_gg_co2_ha', 'ef_lndu_conv_forests_secondary_to_forests_secondary_gg_co2_ha', 'ef_lndu_conv_grasslands_to_forests_mangroves_gg_co2_ha', 'ef_lndu_conv_grasslands_to_forests_primary_gg_co2_ha', 'ef_lndu_conv_grasslands_to_forests_secondary_gg_co2_ha', 'ef_lndu_conv_grasslands_to_grasslands_gg_co2_ha', 'ef_lndu_conv_other_to_forests_mangroves_gg_co2_ha', 'ef_lndu_conv_other_to_forests_primary_gg_co2_ha', 'ef_lndu_conv_other_to_forests_secondary_gg_co2_ha', 'ef_lndu_conv_other_to_other_gg_co2_ha', 'ef_lndu_conv_settlements_to_croplands_gg_co2_ha', 'ef_lndu_conv_settlements_to_forests_mangroves_gg_co2_ha', 'ef_lndu_conv_settlements_to_forests_primary_gg_co2_ha', 'ef_lndu_conv_settlements_to_forests_secondary_gg_co2_ha', 'ef_lndu_conv_settlements_to_grasslands_gg_co2_ha', 'ef_lndu_conv_settlements_to_other_gg_co2_ha', 'ef_lndu_conv_settlements_to_settlements_gg_co2_ha', 'ef_lndu_conv_settlements_to_wetlands_gg_co2_ha', 'ef_lndu_conv_wetlands_to_croplands_gg_co2_ha', 'ef_lndu_conv_wetlands_to_forests_mangroves_gg_co2_ha', 'ef_lndu_conv_wetlands_to_forests_primary_gg_co2_ha', 'ef_lndu_conv_wetlands_to_forests_secondary_gg_co2_ha', 'ef_lndu_conv_wetlands_to_grasslands_gg_co2_ha', 'ef_lndu_conv_wetlands_to_other_gg_co2_ha', 'ef_lndu_conv_wetlands_to_settlements_gg_co2_ha', 'ef_lndu_conv_wetlands_to_wetlands_gg_co2_ha', 'ef_lsmm_direct_management_anaerobic_lagoon_n2o_per_n', 'ef_lsmm_direct_management_daily_spread_n2o_per_n', 'ef_lsmm_direct_management_incineration_n2o_per_n', 'ef_lsmm_direct_management_paddock_pasture_range_n2o_per_n', 'ef_lvst_entferm_chickens_kg_ch4_head', 'elasticity_waso_msw_to_gdppc_chemical_industrial', 'elasticity_waso_msw_to_gdppc_sludge', 'exports_enfu_pj_fuel_coal', 'exports_enfu_pj_fuel_crude', 'exports_enfu_pj_fuel_oil', 'factor_lsmm_n_from_codigestates_anaerobic_digester', 'frac_agrc_bevs_and_spices_cl1_temperate', 'frac_agrc_bevs_and_spices_cl1_tropical', 'frac_agrc_cereals_cl1_temperate', 'frac_agrc_cereals_cl1_tropical', 'frac_agrc_fibers_cl1_temperate', 'frac_agrc_fibers_cl1_tropical', 'frac_agrc_fruits_cl1_temperate', 'frac_agrc_fruits_cl1_tropical', 'frac_agrc_herbs_and_other_perennial_crops_cl1_temperate', 'frac_agrc_herbs_and_other_perennial_crops_cl1_tropical', 'frac_agrc_initial_yield_feed_bevs_and_spices', 'frac_agrc_initial_yield_feed_cereals', 'frac_agrc_initial_yield_feed_fibers', 'frac_agrc_initial_yield_feed_fruits', 'frac_agrc_initial_yield_feed_herbs_and_other_perennial_crops', 'frac_agrc_initial_yield_feed_nuts', 'frac_agrc_initial_yield_feed_other_annual', 'frac_agrc_initial_yield_feed_other_woody_perennial', 'frac_agrc_initial_yield_feed_pulses', 'frac_agrc_initial_yield_feed_rice', 'frac_agrc_initial_yield_feed_sugar_cane', 'frac_agrc_initial_yield_feed_tubers', 'frac_agrc_initial_yield_feed_vegetables_and_vines', 'frac_agrc_nuts_cl1_temperate', 'frac_agrc_nuts_cl1_tropical', 'frac_agrc_other_annual_cl1_temperate', 'frac_agrc_other_annual_cl1_tropical', 'frac_agrc_other_woody_perennial_cl1_temperate', 'frac_agrc_other_woody_perennial_cl1_tropical', 'frac_agrc_pulses_cl1_temperate', 'frac_agrc_pulses_cl1_tropical', 'frac_agrc_rice_cl1_temperate', 'frac_agrc_rice_cl1_tropical', 'frac_agrc_sugar_cane_cl1_temperate', 'frac_agrc_sugar_cane_cl1_tropical', 'frac_agrc_tubers_cl1_temperate', 'frac_agrc_tubers_cl1_tropical', 'frac_agrc_vegetables_and_vines_cl1_temperate', 'frac_agrc_vegetables_and_vines_cl1_tropical', 'frac_enfu_minimum_fuel_to_electricity_fuel_biogas', 'frac_enfu_minimum_fuel_to_electricity_fuel_waste', 'frac_frst_annual_wildfire_fraction_mangroves', 'frac_frst_mangroves_cl1_tropical', 'frac_frst_primary_cl1_tropical', 'frac_frst_secondary_cl1_tropical', 'frac_inen_energy_agriculture_and_livestock_coal', 'frac_inen_energy_agriculture_and_livestock_coke', 'frac_inen_energy_agriculture_and_livestock_hydrocarbon_gas_liquids', 'frac_inen_energy_agriculture_and_livestock_hydrogen', 'frac_inen_energy_agriculture_and_livestock_kerosene', 'frac_inen_energy_agriculture_and_livestock_solid_biomass', 'frac_inen_energy_cement_furnace_gas', 'frac_inen_energy_cement_hydrocarbon_gas_liquids', 'frac_inen_energy_cement_hydrogen', 'frac_inen_energy_cement_kerosene', 'frac_inen_energy_cement_solar', 'frac_inen_energy_chemicals_coal', 'frac_inen_energy_chemicals_coke', 'frac_inen_energy_chemicals_hydrocarbon_gas_liquids', 'frac_inen_energy_chemicals_hydrogen', 'frac_inen_energy_chemicals_kerosene', 'frac_inen_energy_chemicals_solar', 'frac_inen_energy_chemicals_solid_biomass', 'frac_inen_energy_electronics_coal', 'frac_inen_energy_electronics_coke', 'frac_inen_energy_electronics_hydrocarbon_gas_liquids', 'frac_inen_energy_electronics_hydrogen', 'frac_inen_energy_electronics_kerosene', 'frac_inen_energy_electronics_solar', 'frac_inen_energy_glass_furnace_gas', 'frac_inen_energy_glass_hydrocarbon_gas_liquids', 'frac_inen_energy_glass_hydrogen', 'frac_inen_energy_glass_kerosene', 'frac_inen_energy_glass_solar', 'frac_inen_energy_lime_and_carbonite_furnace_gas', 'frac_inen_energy_lime_and_carbonite_hydrocarbon_gas_liquids', 'frac_inen_energy_lime_and_carbonite_hydrogen', 'frac_inen_energy_lime_and_carbonite_kerosene', 'frac_inen_energy_lime_and_carbonite_solar', 'frac_inen_energy_metals_hydrocarbon_gas_liquids', 'frac_inen_energy_metals_hydrogen', 'frac_inen_energy_metals_kerosene', 'frac_inen_energy_metals_solar', 'frac_inen_energy_metals_solid_biomass', 'frac_inen_energy_mining_coal', 'frac_inen_energy_mining_coke', 'frac_inen_energy_mining_furnace_gas', 'frac_inen_energy_mining_gasoline', 'frac_inen_energy_mining_geothermal', 'frac_inen_energy_mining_hydrocarbon_gas_liquids', 'frac_inen_energy_mining_hydrogen', 'frac_inen_energy_mining_kerosene', 'frac_inen_energy_mining_oil', 'frac_inen_energy_mining_solar', 'frac_inen_energy_mining_solid_biomass', 'frac_inen_energy_other_product_manufacturing_hydrocarbon_gas_liquids', 'frac_inen_energy_other_product_manufacturing_hydrogen', 'frac_inen_energy_other_product_manufacturing_kerosene', 'frac_inen_energy_other_product_manufacturing_solar', 'frac_inen_energy_paper_coal', 'frac_inen_energy_paper_coke', 'frac_inen_energy_paper_hydrocarbon_gas_liquids', 'frac_inen_energy_paper_hydrogen', 'frac_inen_energy_paper_kerosene', 'frac_inen_energy_paper_solar', 'frac_inen_energy_plastic_coal', 'frac_inen_energy_plastic_coke', 'frac_inen_energy_plastic_diesel', 'frac_inen_energy_plastic_electricity', 'frac_inen_energy_plastic_furnace_gas', 'frac_inen_energy_plastic_gasoline', 'frac_inen_energy_plastic_hydrocarbon_gas_liquids', 'frac_inen_energy_plastic_hydrogen', 'frac_inen_energy_plastic_kerosene', 'frac_inen_energy_plastic_natural_gas', 'frac_inen_energy_plastic_oil', 'frac_inen_energy_plastic_solar', 'frac_inen_energy_plastic_solid_biomass', 'frac_inen_energy_recycled_glass_furnace_gas', 'frac_inen_energy_recycled_glass_hydrocarbon_gas_liquids', 'frac_inen_energy_recycled_glass_hydrogen', 'frac_inen_energy_recycled_glass_kerosene', 'frac_inen_energy_recycled_glass_solar', 'frac_inen_energy_recycled_metals_hydrocarbon_gas_liquids', 'frac_inen_energy_recycled_metals_hydrogen', 'frac_inen_energy_recycled_metals_kerosene', 'frac_inen_energy_recycled_metals_solar', 'frac_inen_energy_recycled_metals_solid_biomass', 'frac_inen_energy_recycled_paper_coal', 'frac_inen_energy_recycled_paper_coke', 'frac_inen_energy_recycled_paper_hydrocarbon_gas_liquids', 'frac_inen_energy_recycled_paper_hydrogen', 'frac_inen_energy_recycled_paper_kerosene', 'frac_inen_energy_recycled_paper_solar', 'frac_inen_energy_recycled_plastic_coal', 'frac_inen_energy_recycled_plastic_coke', 'frac_inen_energy_recycled_plastic_diesel', 'frac_inen_energy_recycled_plastic_electricity', 'frac_inen_energy_recycled_plastic_furnace_gas', 'frac_inen_energy_recycled_plastic_gasoline', 'frac_inen_energy_recycled_plastic_hydrocarbon_gas_liquids', 'frac_inen_energy_recycled_plastic_hydrogen', 'frac_inen_energy_recycled_plastic_kerosene', 'frac_inen_energy_recycled_plastic_natural_gas', 'frac_inen_energy_recycled_plastic_oil', 'frac_inen_energy_recycled_plastic_solar', 'frac_inen_energy_recycled_plastic_solid_biomass', 'frac_inen_energy_recycled_rubber_and_leather_coal', 'frac_inen_energy_recycled_rubber_and_leather_coke', 'frac_inen_energy_recycled_rubber_and_leather_hydrocarbon_gas_liquids', 'frac_inen_energy_recycled_rubber_and_leather_hydrogen', 'frac_inen_energy_recycled_rubber_and_leather_kerosene', 'frac_inen_energy_recycled_rubber_and_leather_solar', 'frac_inen_energy_recycled_rubber_and_leather_solid_biomass', 'frac_inen_energy_recycled_textiles_coal', 'frac_inen_energy_recycled_textiles_coke', 'frac_inen_energy_recycled_textiles_hydrocarbon_gas_liquids', 'frac_inen_energy_recycled_textiles_hydrogen', 'frac_inen_energy_recycled_textiles_kerosene', 'frac_inen_energy_recycled_textiles_solar', 'frac_inen_energy_recycled_textiles_solid_biomass', 'frac_inen_energy_recycled_wood_coal', 'frac_inen_energy_recycled_wood_coke', 'frac_inen_energy_recycled_wood_hydrocarbon_gas_liquids', 'frac_inen_energy_recycled_wood_hydrogen', 'frac_inen_energy_recycled_wood_kerosene', 'frac_inen_energy_recycled_wood_solar', 'frac_inen_energy_rubber_and_leather_coal', 'frac_inen_energy_rubber_and_leather_coke', 'frac_inen_energy_rubber_and_leather_hydrocarbon_gas_liquids', 'frac_inen_energy_rubber_and_leather_hydrogen', 'frac_inen_energy_rubber_and_leather_kerosene', 'frac_inen_energy_rubber_and_leather_solar', 'frac_inen_energy_rubber_and_leather_solid_biomass', 'frac_inen_energy_textiles_coal', 'frac_inen_energy_textiles_coke', 'frac_inen_energy_textiles_hydrocarbon_gas_liquids', 'frac_inen_energy_textiles_hydrogen', 'frac_inen_energy_textiles_kerosene', 'frac_inen_energy_textiles_solar', 'frac_inen_energy_textiles_solid_biomass', 'frac_inen_energy_wood_coal', 'frac_inen_energy_wood_coke', 'frac_inen_energy_wood_hydrocarbon_gas_liquids', 'frac_inen_energy_wood_hydrogen', 'frac_inen_energy_wood_kerosene', 'frac_inen_energy_wood_solar', 'frac_ippu_production_with_co2_capture_cement', 'frac_ippu_production_with_co2_capture_chemicals', 'frac_ippu_production_with_co2_capture_glass', 'frac_ippu_production_with_co2_capture_lime_and_carbonite', 'frac_ippu_production_with_co2_capture_metals', 'frac_ippu_production_with_co2_capture_plastic', 'frac_lndu_grasslands_cl1_temperate', 'frac_lndu_grasslands_cl1_tropical', 'frac_lsmm_n_loss_leaching_anaerobic_digester', 'frac_lsmm_n_loss_leaching_anaerobic_lagoon', 'frac_lsmm_n_loss_leaching_daily_spread', 'frac_lsmm_n_loss_leaching_incineration', 'frac_lsmm_n_loss_leaching_liquid_slurry', 'frac_lsmm_n_loss_leaching_paddock_pasture_range', 'frac_lsmm_n_loss_leaching_poultry_manure', 'frac_lsmm_n_loss_volatilisation_incineration', 'frac_lsmm_n_loss_volatilisation_paddock_pasture_range', 'frac_lvst_mm_buffalo_composting', 'frac_lvst_mm_buffalo_deep_bedding', 'frac_lvst_mm_buffalo_incineration', 'frac_lvst_mm_buffalo_poultry_manure', 'frac_lvst_mm_cattle_dairy_anaerobic_digester', 'frac_lvst_mm_cattle_dairy_anaerobic_lagoon', 'frac_lvst_mm_cattle_dairy_composting', 'frac_lvst_mm_cattle_dairy_daily_spread', 'frac_lvst_mm_cattle_dairy_deep_bedding', 'frac_lvst_mm_cattle_dairy_incineration', 'frac_lvst_mm_cattle_dairy_liquid_slurry', 'frac_lvst_mm_cattle_dairy_poultry_manure', 'frac_lvst_mm_cattle_nondairy_anaerobic_digester', 'frac_lvst_mm_cattle_nondairy_anaerobic_lagoon', 'frac_lvst_mm_cattle_nondairy_composting', 'frac_lvst_mm_cattle_nondairy_daily_spread', 'frac_lvst_mm_cattle_nondairy_deep_bedding', 'frac_lvst_mm_cattle_nondairy_incineration', 'frac_lvst_mm_cattle_nondairy_liquid_slurry', 'frac_lvst_mm_cattle_nondairy_poultry_manure', 'frac_lvst_mm_chickens_anaerobic_digester', 'frac_lvst_mm_chickens_anaerobic_lagoon', 'frac_lvst_mm_chickens_composting', 'frac_lvst_mm_chickens_deep_bedding', 'frac_lvst_mm_chickens_dry_lot', 'frac_lvst_mm_chickens_incineration', 'frac_lvst_mm_chickens_liquid_slurry', 'frac_lvst_mm_chickens_poultry_manure', 'frac_lvst_mm_chickens_solid_storage', 'frac_lvst_mm_goats_anaerobic_digester', 'frac_lvst_mm_goats_anaerobic_lagoon', 'frac_lvst_mm_goats_composting', 'frac_lvst_mm_goats_daily_spread', 'frac_lvst_mm_goats_deep_bedding', 'frac_lvst_mm_goats_dry_lot', 'frac_lvst_mm_goats_incineration', 'frac_lvst_mm_goats_paddock_pasture_range', 'frac_lvst_mm_horses_anaerobic_digester', 'frac_lvst_mm_horses_anaerobic_lagoon', 'frac_lvst_mm_horses_composting', 'frac_lvst_mm_horses_daily_spread', 'frac_lvst_mm_horses_deep_bedding', 'frac_lvst_mm_horses_incineration', 'frac_lvst_mm_horses_liquid_slurry', 'frac_lvst_mm_horses_poultry_manure', 'frac_lvst_mm_mules_anaerobic_digester', 'frac_lvst_mm_mules_anaerobic_lagoon', 'frac_lvst_mm_mules_composting', 'frac_lvst_mm_mules_daily_spread', 'frac_lvst_mm_mules_deep_bedding', 'frac_lvst_mm_mules_incineration', 'frac_lvst_mm_mules_liquid_slurry', 'frac_lvst_mm_mules_poultry_manure', 'frac_lvst_mm_pigs_anaerobic_digester', 'frac_lvst_mm_pigs_anaerobic_lagoon', 'frac_lvst_mm_pigs_composting', 'frac_lvst_mm_pigs_daily_spread', 'frac_lvst_mm_pigs_deep_bedding', 'frac_lvst_mm_pigs_incineration', 'frac_lvst_mm_pigs_liquid_slurry', 'frac_lvst_mm_pigs_poultry_manure', 'frac_lvst_mm_sheep_anaerobic_digester', 'frac_lvst_mm_sheep_anaerobic_lagoon', 'frac_lvst_mm_sheep_composting', 'frac_lvst_mm_sheep_daily_spread', 'frac_lvst_mm_sheep_deep_bedding', 'frac_lvst_mm_sheep_incineration', 'frac_lvst_mm_sheep_liquid_slurry', 'frac_lvst_mm_sheep_poultry_manure', 'frac_scoe_heat_energy_commercial_municipal_hydrogen', 'frac_scoe_heat_energy_other_se_hydrogen', 'frac_scoe_heat_energy_residential_hydrogen', 'frac_trns_fuelmix_aviation_electricity', 'frac_trns_fuelmix_aviation_hydrogen', 'frac_trns_fuelmix_aviation_kerosene', 'frac_trns_fuelmix_public_biofuels', 'frac_trns_fuelmix_public_hydrocarbon_gas_liquids', 'frac_trns_fuelmix_public_hydrogen', 'frac_trns_fuelmix_rail_freight_diesel', 'frac_trns_fuelmix_rail_freight_electricity', 'frac_trns_fuelmix_rail_freight_hydrogen', 'frac_trns_fuelmix_rail_freight_natural_gas', 'frac_trns_fuelmix_rail_passenger_hydrogen', 'frac_trns_fuelmix_rail_passenger_natural_gas', 'frac_trns_fuelmix_road_heavy_freight_biofuels', 'frac_trns_fuelmix_road_heavy_freight_hydrocarbon_gas_liquids', 'frac_trns_fuelmix_road_heavy_freight_hydrogen', 'frac_trns_fuelmix_road_heavy_regional_biofuels', 'frac_trns_fuelmix_road_heavy_regional_hydrocarbon_gas_liquids', 'frac_trns_fuelmix_road_heavy_regional_hydrogen', 'frac_trns_fuelmix_road_light_biofuels', 'frac_trns_fuelmix_road_light_hydrocarbon_gas_liquids', 'frac_trns_fuelmix_road_light_hydrogen', 'frac_trns_fuelmix_water_borne_diesel', 'frac_trns_fuelmix_water_borne_electricity', 'frac_trns_fuelmix_water_borne_hydrogen', 'frac_trns_fuelmix_water_borne_natural_gas', 'frac_trns_pkm_dem_private_and_public_water_borne', 'frac_trns_pkm_dem_regional_water_borne', 'frac_trww_n_removed_untreated_no_sewerage', 'frac_trww_n_removed_untreated_with_sewerage', 'frac_trww_p_removed_untreated_no_sewerage', 'frac_trww_p_removed_untreated_with_sewerage', 'frac_trww_tow_removed_untreated_no_sewerage', 'frac_trww_tow_removed_untreated_with_sewerage', 'frac_wali_ww_domestic_rural_treatment_path_advanced_aerobic', 'frac_wali_ww_domestic_rural_treatment_path_advanced_anaerobic', 'frac_wali_ww_domestic_rural_treatment_path_secondary_aerobic', 'frac_wali_ww_domestic_rural_treatment_path_secondary_anaerobic', 'frac_wali_ww_domestic_rural_treatment_path_untreated_with_sewerage', 'frac_wali_ww_domestic_urban_treatment_path_septic', 'frac_wali_ww_domestic_urban_treatment_path_untreated_with_sewerage', 'frac_wali_ww_industrial_treatment_path_latrine_improved', 'frac_wali_ww_industrial_treatment_path_latrine_unimproved', 'frac_wali_ww_industrial_treatment_path_septic', 'frac_wali_ww_industrial_treatment_path_untreated_with_sewerage', 'frac_waso_initial_composition_ind_food', 'frac_waso_initial_composition_ind_glass', 'frac_waso_initial_composition_ind_metal', 'frac_waso_initial_composition_ind_nappies', 'frac_waso_initial_composition_ind_paper', 'frac_waso_initial_composition_ind_plastic', 'frac_waso_initial_composition_ind_rubber_leather', 'frac_waso_initial_composition_ind_sludge', 'frac_waso_initial_composition_ind_textiles', 'frac_waso_initial_composition_ind_wood', 'frac_waso_initial_composition_ind_yard', 'gasrf_trww_biogas_treated_advanced_aerobic', 'gasrf_trww_biogas_treated_advanced_anaerobic', 'gasrf_trww_biogas_treated_secondary_aerobic', 'gasrf_trww_biogas_treated_secondary_anaerobic', 'lndu_reallocation_factor', 'nemomod_enfu_renewable_energy_minimum_production_target_fuel_electricity', 'nemomod_enst_frac_storage_charged_initial_st_batteries', 'nemomod_enst_frac_storage_charged_initial_st_compressed_air', 'nemomod_enst_frac_storage_charged_initial_st_flywheels', 'nemomod_enst_frac_storage_charged_initial_st_pumped_hydro', 'nemomod_enst_residual_capacity_st_batteries_gwh', 'nemomod_enst_residual_capacity_st_compressed_air_gwh', 'nemomod_enst_residual_capacity_st_flywheels_gwh', 'nemomod_enst_residual_capacity_st_pumped_hydro_gwh', 'nemomod_entc_frac_min_share_production_fp_hydrogen_electrolysis', 'nemomod_entc_frac_min_share_production_fp_hydrogen_gasification', 'nemomod_entc_frac_min_share_production_fp_hydrogen_reformation', 'nemomod_entc_frac_min_share_production_pp_biogas', 'nemomod_entc_frac_min_share_production_pp_biomass', 'nemomod_entc_frac_min_share_production_pp_coal_ccs', 'nemomod_entc_frac_min_share_production_pp_gas_ccs', 'nemomod_entc_frac_min_share_production_pp_geothermal', 'nemomod_entc_frac_min_share_production_pp_nuclear', 'nemomod_entc_frac_min_share_production_pp_ocean', 'nemomod_entc_frac_min_share_production_pp_waste_incineration', 'nemomod_entc_input_activity_ratio_fuel_production_fp_hydrogen_gasification_biomass', 'nemomod_entc_input_activity_ratio_fuel_production_fp_hydrogen_gasification_electricity', 'nemomod_entc_input_activity_ratio_fuel_production_fp_hydrogen_reformation_electricity', 'nemomod_entc_input_activity_ratio_fuel_production_fp_hydrogen_reformation_oil', 'nemomod_entc_input_activity_ratio_fuel_production_fp_petroleum_refinement_electricity', 'nemomod_entc_input_activity_ratio_fuel_production_me_coal_oil', 'nemomod_entc_input_activity_ratio_fuel_production_me_crude_natural_gas', 'nemomod_entc_input_activity_ratio_fuel_production_me_crude_oil', 'nemomod_entc_input_activity_ratio_fuel_production_me_natural_gas_natural_gas', 'nemomod_entc_input_activity_ratio_fuel_production_me_natural_gas_oil', 'nemomod_entc_renewable_energy_tag_pp_biogas', 'nemomod_entc_renewable_energy_tag_pp_biomass', 'nemomod_entc_renewable_energy_tag_pp_coal', 'nemomod_entc_renewable_energy_tag_pp_coal_ccs', 'nemomod_entc_renewable_energy_tag_pp_gas', 'nemomod_entc_renewable_energy_tag_pp_gas_ccs', 'nemomod_entc_renewable_energy_tag_pp_nuclear', 'nemomod_entc_renewable_energy_tag_pp_oil', 'nemomod_entc_renewable_energy_tag_pp_waste_incineration', 'nemomod_entc_renewable_energy_tag_st_batteries', 'nemomod_entc_renewable_energy_tag_st_compressed_air', 'nemomod_entc_renewable_energy_tag_st_flywheels', 'nemomod_entc_renewable_energy_tag_st_pumped_hydro', 'nemomod_entc_reserve_margin_tag_technology_pp_biogas', 'nemomod_entc_residual_capacity_pp_biogas_gw', 'nemomod_entc_residual_capacity_pp_biomass_gw', 'nemomod_entc_residual_capacity_pp_coal_ccs_gw', 'nemomod_entc_residual_capacity_pp_gas_ccs_gw', 'nemomod_entc_residual_capacity_pp_geothermal_gw', 'nemomod_entc_residual_capacity_pp_nuclear_gw', 'nemomod_entc_residual_capacity_pp_ocean_gw', 'nemomod_entc_residual_capacity_pp_solar_gw', 'nemomod_entc_residual_capacity_pp_waste_incineration_gw', 'nemomod_entc_residual_capacity_pp_wind_gw', 'nemomod_entc_total_annual_max_capacity_investment_pp_biomass_gw', 'nemomod_entc_variable_cost_pp_solar_usd_per_mwh', 'nemomod_entc_variable_cost_pp_wind_usd_per_mwh', 'nemomod_entc_variable_cost_st_flywheels_usd_per_mwh', 'physparam_waso_k_glass', 'physparam_waso_k_metal', 'physparam_waso_k_other', 'physparam_waso_k_plastic', 'physparam_waso_k_rubber_leather', 'pop_lvst_initial_buffalo', 'prodinit_ippu_recycled_glass_tonne', 'prodinit_ippu_recycled_metals_tonne', 'prodinit_ippu_recycled_paper_tonne', 'prodinit_ippu_recycled_plastic_tonne', 'prodinit_ippu_recycled_rubber_and_leather_tonne', 'prodinit_ippu_recycled_textiles_tonne', 'qty_ccsq_mt_co2_captured_sequestered_by_direct_air_capture', 'qty_frst_biomass_consumed_by_fire_temperate_mangroves_tonne_per_ha', 'qty_frst_biomass_consumed_by_fire_tropical_mangroves_tonne_per_ha', 'qty_ippu_glass_tonne_cod_per_m3_ww', 'qty_ippu_lime_and_carbonite_tonne_cod_per_m3_ww', 'qty_ippu_metals_tonne_cod_per_m3_ww', 'qty_ippu_recycled_metals_tonne_cod_per_m3_ww', 'qty_ippu_recycled_paper_tonne_cod_per_m3_ww', 'qty_ippu_recycled_plastic_tonne_cod_per_m3_ww', 'qty_ippu_recycled_rubber_and_leather_tonne_cod_per_m3_ww', 'qty_lvst_daily_dry_matter_consumed_chickens_kg', 'qty_lvst_daily_dry_matter_consumed_pigs_kg', 'yf_agrc_bevs_and_spices_tonne_ha', 'yf_agrc_fibers_tonne_ha', 'yf_agrc_rice_tonne_ha', 'yf_agrc_sugar_cane_tonne_ha', 'ef_enfu_combustion_tonne_co2_per_tj_fuel_electricity', 'ef_enfu_combustion_tonne_co2_per_tj_fuel_geothermal', 'ef_enfu_combustion_tonne_co2_per_tj_fuel_hydrogen', 'ef_enfu_combustion_tonne_co2_per_tj_fuel_water', 'ef_enfu_combustion_tonne_co2_per_tj_fuel_nuclear', 'ef_enfu_combustion_tonne_co2_per_tj_fuel_ocean', 'ef_enfu_combustion_tonne_co2_per_tj_fuel_solar', 'ef_enfu_combustion_tonne_co2_per_tj_fuel_wind', 'ef_enfu_stationary_combustion_tonne_ch4_per_tj_fuel_electricity', 'ef_enfu_stationary_combustion_tonne_ch4_per_tj_fuel_geothermal', 'ef_enfu_stationary_combustion_tonne_ch4_per_tj_fuel_hydrogen', 'ef_enfu_stationary_combustion_tonne_ch4_per_tj_fuel_water', 'ef_enfu_stationary_combustion_tonne_ch4_per_tj_fuel_nuclear', 'ef_enfu_stationary_combustion_tonne_ch4_per_tj_fuel_ocean', 'ef_enfu_stationary_combustion_tonne_ch4_per_tj_fuel_solar', 'ef_enfu_stationary_combustion_tonne_ch4_per_tj_fuel_wind', 'ef_enfu_stationary_combustion_tonne_n2o_per_tj_fuel_electricity', 'ef_enfu_stationary_combustion_tonne_n2o_per_tj_fuel_geothermal', 'ef_enfu_stationary_combustion_tonne_n2o_per_tj_fuel_hydrogen', 'ef_enfu_stationary_combustion_tonne_n2o_per_tj_fuel_water', 'ef_enfu_stationary_combustion_tonne_n2o_per_tj_fuel_nuclear', 'ef_enfu_stationary_combustion_tonne_n2o_per_tj_fuel_ocean', 'ef_enfu_stationary_combustion_tonne_n2o_per_tj_fuel_solar', 'ef_enfu_stationary_combustion_tonne_n2o_per_tj_fuel_wind', 'frac_agrc_n_in_below_ground_residue_rice', 'strategy_id', 'ef_enfu_combustion_tonne_co2_per_tj_fuel_ammonia', 'ef_enfu_stationary_combustion_tonne_ch4_per_tj_fuel_ammonia', 'frac_enfu_fuel_demand_imported_pj_fuel_ammonia', 'nemomod_entc_capital_cost_fp_ammonia_production_mm_usd_per_gw', 'nemomod_entc_input_activity_ratio_fuel_production_fp_hydrogen_reformation_ccs_electricity', 'frac_trns_fuelmix_water_borne_ammonia', 'nemomod_entc_frac_min_share_production_fp_hydrogen_reformation_ccs', 'nemomod_entc_input_activity_ratio_fuel_production_fp_hydrogen_reformation_ccs_oil']\n",
      "Amount of cols with repeated values:  562\n"
     ]
    }
   ],
   "source": [
    "# Check for columns that have the same value in all rows\n",
    "cols_with_repeated_values = helpers.check_cols_with_same_val(df_attributes)"
   ]
  },
  {
   "cell_type": "code",
   "execution_count": 13,
   "metadata": {},
   "outputs": [
    {
     "name": "stdout",
     "output_type": "stream",
     "text": [
      "Attributes df shape after dropping cols with all same values:  (100, 1473)\n"
     ]
    }
   ],
   "source": [
    "df_attributes.drop(columns=cols_with_repeated_values, inplace=True)\n",
    "print('Attributes df shape after dropping cols with all same values: ', df_attributes.shape)"
   ]
  },
  {
   "cell_type": "code",
   "execution_count": 14,
   "metadata": {},
   "outputs": [
    {
     "name": "stdout",
     "output_type": "stream",
     "text": [
      "The following columns have repeated values across all rows: \n",
      " []\n",
      "Amount of cols with repeated values:  0\n"
     ]
    }
   ],
   "source": [
    "# Double Check elimination\n",
    "cols_with_repeated_values = helpers.check_cols_with_same_val(df_attributes)"
   ]
  },
  {
   "cell_type": "markdown",
   "metadata": {},
   "source": [
    "## Now let's move to analyze the target variables"
   ]
  },
  {
   "cell_type": "code",
   "execution_count": 15,
   "metadata": {},
   "outputs": [
    {
     "data": {
      "text/html": [
       "<div>\n",
       "<style scoped>\n",
       "    .dataframe tbody tr th:only-of-type {\n",
       "        vertical-align: middle;\n",
       "    }\n",
       "\n",
       "    .dataframe tbody tr th {\n",
       "        vertical-align: top;\n",
       "    }\n",
       "\n",
       "    .dataframe thead th {\n",
       "        text-align: right;\n",
       "    }\n",
       "</style>\n",
       "<table border=\"1\" class=\"dataframe\">\n",
       "  <thead>\n",
       "    <tr style=\"text-align: right;\">\n",
       "      <th></th>\n",
       "      <th>id</th>\n",
       "      <th>AG_Livestock_CH4</th>\n",
       "      <th>AG_Livestock_N2O</th>\n",
       "      <th>AG_Crops_CO2</th>\n",
       "      <th>AG_Crops_CH4</th>\n",
       "      <th>AG_Crops_N2O</th>\n",
       "      <th>EN_Building_CO2</th>\n",
       "      <th>EN_Building_CH4</th>\n",
       "      <th>EN_Building_N2O</th>\n",
       "      <th>EN_ElectricityHeat_CO2</th>\n",
       "      <th>EN_ElectricityHeat_CH4</th>\n",
       "      <th>EN_ElectricityHeat_N2O</th>\n",
       "      <th>EN_FugitiveEmissions_CO2</th>\n",
       "      <th>EN_FugitiveEmissions_CH4</th>\n",
       "      <th>EN_FugitiveEmissions_N2O</th>\n",
       "      <th>EN_ManufacturingConstruction_CO2</th>\n",
       "      <th>EN_ManufacturingConstruction_CH4</th>\n",
       "      <th>EN_ManufacturingConstruction_N2O</th>\n",
       "      <th>EN_Transportation_CO2</th>\n",
       "      <th>EN_Transportation_CH4</th>\n",
       "      <th>EN_Transportation_N2O</th>\n",
       "      <th>IN_IndustrialProcesses_CO2</th>\n",
       "      <th>IN_IndustrialProcesses_CH4</th>\n",
       "      <th>IN_IndustrialProcesses_N2O</th>\n",
       "      <th>IN_IndustrialProcesses_HFCc2f6</th>\n",
       "      <th>IN_IndustrialProcesses_HFCc2h3f3</th>\n",
       "      <th>IN_IndustrialProcesses_HFCc2hf5</th>\n",
       "      <th>IN_IndustrialProcesses_HFCc3f8</th>\n",
       "      <th>IN_IndustrialProcesses_HFCc3h2f6</th>\n",
       "      <th>IN_IndustrialProcesses_HFCc3h3f5</th>\n",
       "      <th>IN_IndustrialProcesses_HFCc3hf7</th>\n",
       "      <th>IN_IndustrialProcesses_HFCc4f10</th>\n",
       "      <th>IN_IndustrialProcesses_HFCc4f6</th>\n",
       "      <th>IN_IndustrialProcesses_HFCc4h5f5</th>\n",
       "      <th>IN_IndustrialProcesses_HFCc5f12</th>\n",
       "      <th>IN_IndustrialProcesses_HFCc5f8</th>\n",
       "      <th>IN_IndustrialProcesses_HFCc5h2f10</th>\n",
       "      <th>IN_IndustrialProcesses_HFCc6f14</th>\n",
       "      <th>IN_IndustrialProcesses_HFCcc4f8</th>\n",
       "      <th>IN_IndustrialProcesses_HFCcf4</th>\n",
       "      <th>IN_IndustrialProcesses_HFCch2f2</th>\n",
       "      <th>IN_IndustrialProcesses_HFCch2fchf2</th>\n",
       "      <th>IN_IndustrialProcesses_HFCch3cci2f</th>\n",
       "      <th>IN_IndustrialProcesses_HFCch3ccif2</th>\n",
       "      <th>IN_IndustrialProcesses_HFCch3chf2</th>\n",
       "      <th>IN_IndustrialProcesses_HFCch3f</th>\n",
       "      <th>IN_IndustrialProcesses_HFCchf2cf3</th>\n",
       "      <th>IN_IndustrialProcesses_HFCchf2chf2</th>\n",
       "      <th>IN_IndustrialProcesses_HFCchf3</th>\n",
       "      <th>IN_IndustrialProcesses_HFChfcs</th>\n",
       "      <th>IN_IndustrialProcesses_HFCother_fcs</th>\n",
       "      <th>IN_IndustrialProcesses_PFCpfcs</th>\n",
       "      <th>IN_IndustrialProcesses_SF6</th>\n",
       "      <th>Waste_SolidWaste_CO2</th>\n",
       "      <th>Waste_SolidWaste_CH4</th>\n",
       "      <th>Waste_SolidWaste_N2O</th>\n",
       "      <th>Waste_WastewaterTreatment_CH4</th>\n",
       "      <th>Waste_WastewaterTreatment_N2O</th>\n",
       "      <th>LULUCF_ForestLand_CO2</th>\n",
       "      <th>LULUCF_ForestLand_CH4</th>\n",
       "      <th>LULUCF_Deforestation_CO2</th>\n",
       "      <th>LULUCF_Deforestation_CH4</th>\n",
       "      <th>LULUCF_OrganicSoil_CO2</th>\n",
       "      <th>LULUCF_OrganicSoil_N2O</th>\n",
       "    </tr>\n",
       "  </thead>\n",
       "  <tbody>\n",
       "    <tr>\n",
       "      <th>0</th>\n",
       "      <td>1</td>\n",
       "      <td>0.293190</td>\n",
       "      <td>0.231473</td>\n",
       "      <td>23.326594</td>\n",
       "      <td>1.187369</td>\n",
       "      <td>0.994199</td>\n",
       "      <td>4.307744</td>\n",
       "      <td>0.006090</td>\n",
       "      <td>0.005047</td>\n",
       "      <td>7.299362</td>\n",
       "      <td>0.007641</td>\n",
       "      <td>0.023061</td>\n",
       "      <td>0.259917</td>\n",
       "      <td>1.337733</td>\n",
       "      <td>0.000062</td>\n",
       "      <td>7.748007</td>\n",
       "      <td>0.009856</td>\n",
       "      <td>0.015350</td>\n",
       "      <td>12.592816</td>\n",
       "      <td>0.003968</td>\n",
       "      <td>0.356040</td>\n",
       "      <td>13.620661</td>\n",
       "      <td>0.028897</td>\n",
       "      <td>0.497685</td>\n",
       "      <td>0.0</td>\n",
       "      <td>0.662190</td>\n",
       "      <td>0.194583</td>\n",
       "      <td>0.0</td>\n",
       "      <td>0.0</td>\n",
       "      <td>0.0</td>\n",
       "      <td>0.0</td>\n",
       "      <td>0.0</td>\n",
       "      <td>3.105015e-10</td>\n",
       "      <td>0.0</td>\n",
       "      <td>0.0</td>\n",
       "      <td>0.000001</td>\n",
       "      <td>0.0</td>\n",
       "      <td>0.0</td>\n",
       "      <td>0.0</td>\n",
       "      <td>0.0</td>\n",
       "      <td>0.034542</td>\n",
       "      <td>0.0</td>\n",
       "      <td>0.0</td>\n",
       "      <td>0.0</td>\n",
       "      <td>4.147087e-07</td>\n",
       "      <td>0.0</td>\n",
       "      <td>0.196736</td>\n",
       "      <td>0.0</td>\n",
       "      <td>0.0</td>\n",
       "      <td>1.088052</td>\n",
       "      <td>0.000008</td>\n",
       "      <td>0.000001</td>\n",
       "      <td>0.0</td>\n",
       "      <td>-1.317593</td>\n",
       "      <td>0.111083</td>\n",
       "      <td>0.011786</td>\n",
       "      <td>0.828140</td>\n",
       "      <td>0.770557</td>\n",
       "      <td>4.027556</td>\n",
       "      <td>0.241063</td>\n",
       "      <td>0.068106</td>\n",
       "      <td>0.664543</td>\n",
       "      <td>0.022903</td>\n",
       "      <td>4.771070</td>\n",
       "    </tr>\n",
       "    <tr>\n",
       "      <th>1</th>\n",
       "      <td>2</td>\n",
       "      <td>0.009929</td>\n",
       "      <td>0.289614</td>\n",
       "      <td>78.273000</td>\n",
       "      <td>0.869895</td>\n",
       "      <td>0.351969</td>\n",
       "      <td>9.354430</td>\n",
       "      <td>0.006263</td>\n",
       "      <td>0.096383</td>\n",
       "      <td>3.395921</td>\n",
       "      <td>0.006601</td>\n",
       "      <td>0.010539</td>\n",
       "      <td>0.183590</td>\n",
       "      <td>0.155152</td>\n",
       "      <td>0.000049</td>\n",
       "      <td>4.502495</td>\n",
       "      <td>0.005428</td>\n",
       "      <td>0.013366</td>\n",
       "      <td>2.413686</td>\n",
       "      <td>0.001866</td>\n",
       "      <td>0.016720</td>\n",
       "      <td>6.049081</td>\n",
       "      <td>0.059347</td>\n",
       "      <td>2.731309</td>\n",
       "      <td>0.0</td>\n",
       "      <td>0.230737</td>\n",
       "      <td>0.484725</td>\n",
       "      <td>0.0</td>\n",
       "      <td>0.0</td>\n",
       "      <td>0.0</td>\n",
       "      <td>0.0</td>\n",
       "      <td>0.0</td>\n",
       "      <td>1.458105e-09</td>\n",
       "      <td>0.0</td>\n",
       "      <td>0.0</td>\n",
       "      <td>0.000027</td>\n",
       "      <td>0.0</td>\n",
       "      <td>0.0</td>\n",
       "      <td>0.0</td>\n",
       "      <td>0.0</td>\n",
       "      <td>0.038054</td>\n",
       "      <td>0.0</td>\n",
       "      <td>0.0</td>\n",
       "      <td>0.0</td>\n",
       "      <td>3.389716e-07</td>\n",
       "      <td>0.0</td>\n",
       "      <td>0.182978</td>\n",
       "      <td>0.0</td>\n",
       "      <td>0.0</td>\n",
       "      <td>0.936495</td>\n",
       "      <td>0.000303</td>\n",
       "      <td>0.000027</td>\n",
       "      <td>0.0</td>\n",
       "      <td>0.943501</td>\n",
       "      <td>0.676180</td>\n",
       "      <td>0.052393</td>\n",
       "      <td>2.191808</td>\n",
       "      <td>0.142598</td>\n",
       "      <td>2.039361</td>\n",
       "      <td>0.055671</td>\n",
       "      <td>0.381433</td>\n",
       "      <td>0.150161</td>\n",
       "      <td>0.103541</td>\n",
       "      <td>17.544440</td>\n",
       "    </tr>\n",
       "    <tr>\n",
       "      <th>2</th>\n",
       "      <td>3</td>\n",
       "      <td>0.084564</td>\n",
       "      <td>0.139065</td>\n",
       "      <td>44.981280</td>\n",
       "      <td>1.260332</td>\n",
       "      <td>0.761880</td>\n",
       "      <td>18.915926</td>\n",
       "      <td>0.022332</td>\n",
       "      <td>0.059248</td>\n",
       "      <td>72.939014</td>\n",
       "      <td>0.062195</td>\n",
       "      <td>0.073483</td>\n",
       "      <td>0.905847</td>\n",
       "      <td>2.556524</td>\n",
       "      <td>0.000282</td>\n",
       "      <td>1.720910</td>\n",
       "      <td>0.006599</td>\n",
       "      <td>0.010684</td>\n",
       "      <td>87.811416</td>\n",
       "      <td>0.111609</td>\n",
       "      <td>0.178474</td>\n",
       "      <td>2.638859</td>\n",
       "      <td>0.025798</td>\n",
       "      <td>2.119043</td>\n",
       "      <td>0.0</td>\n",
       "      <td>0.205732</td>\n",
       "      <td>0.087291</td>\n",
       "      <td>0.0</td>\n",
       "      <td>0.0</td>\n",
       "      <td>0.0</td>\n",
       "      <td>0.0</td>\n",
       "      <td>0.0</td>\n",
       "      <td>5.978432e-10</td>\n",
       "      <td>0.0</td>\n",
       "      <td>0.0</td>\n",
       "      <td>0.000006</td>\n",
       "      <td>0.0</td>\n",
       "      <td>0.0</td>\n",
       "      <td>0.0</td>\n",
       "      <td>0.0</td>\n",
       "      <td>0.072264</td>\n",
       "      <td>0.0</td>\n",
       "      <td>0.0</td>\n",
       "      <td>0.0</td>\n",
       "      <td>1.344686e-07</td>\n",
       "      <td>0.0</td>\n",
       "      <td>0.066298</td>\n",
       "      <td>0.0</td>\n",
       "      <td>0.0</td>\n",
       "      <td>0.431585</td>\n",
       "      <td>0.000199</td>\n",
       "      <td>0.000006</td>\n",
       "      <td>0.0</td>\n",
       "      <td>0.764725</td>\n",
       "      <td>0.580193</td>\n",
       "      <td>0.022370</td>\n",
       "      <td>0.521712</td>\n",
       "      <td>0.132777</td>\n",
       "      <td>-2.080179</td>\n",
       "      <td>0.185738</td>\n",
       "      <td>0.024190</td>\n",
       "      <td>0.164943</td>\n",
       "      <td>0.117854</td>\n",
       "      <td>8.549432</td>\n",
       "    </tr>\n",
       "    <tr>\n",
       "      <th>3</th>\n",
       "      <td>4</td>\n",
       "      <td>0.089139</td>\n",
       "      <td>0.169623</td>\n",
       "      <td>23.006985</td>\n",
       "      <td>0.345429</td>\n",
       "      <td>2.091302</td>\n",
       "      <td>4.897107</td>\n",
       "      <td>0.006941</td>\n",
       "      <td>0.024766</td>\n",
       "      <td>7.299362</td>\n",
       "      <td>0.007641</td>\n",
       "      <td>0.023061</td>\n",
       "      <td>0.259917</td>\n",
       "      <td>1.337733</td>\n",
       "      <td>0.000062</td>\n",
       "      <td>5.535815</td>\n",
       "      <td>0.005708</td>\n",
       "      <td>0.011603</td>\n",
       "      <td>3.706208</td>\n",
       "      <td>0.008749</td>\n",
       "      <td>0.037700</td>\n",
       "      <td>6.437281</td>\n",
       "      <td>0.032141</td>\n",
       "      <td>5.643020</td>\n",
       "      <td>0.0</td>\n",
       "      <td>0.018988</td>\n",
       "      <td>0.238921</td>\n",
       "      <td>0.0</td>\n",
       "      <td>0.0</td>\n",
       "      <td>0.0</td>\n",
       "      <td>0.0</td>\n",
       "      <td>0.0</td>\n",
       "      <td>3.743595e-09</td>\n",
       "      <td>0.0</td>\n",
       "      <td>0.0</td>\n",
       "      <td>0.000026</td>\n",
       "      <td>0.0</td>\n",
       "      <td>0.0</td>\n",
       "      <td>0.0</td>\n",
       "      <td>0.0</td>\n",
       "      <td>0.006279</td>\n",
       "      <td>0.0</td>\n",
       "      <td>0.0</td>\n",
       "      <td>0.0</td>\n",
       "      <td>4.004662e-07</td>\n",
       "      <td>0.0</td>\n",
       "      <td>0.011206</td>\n",
       "      <td>0.0</td>\n",
       "      <td>0.0</td>\n",
       "      <td>0.275394</td>\n",
       "      <td>0.000239</td>\n",
       "      <td>0.000026</td>\n",
       "      <td>0.0</td>\n",
       "      <td>0.513284</td>\n",
       "      <td>0.182666</td>\n",
       "      <td>0.018340</td>\n",
       "      <td>0.707272</td>\n",
       "      <td>0.027622</td>\n",
       "      <td>5.688578</td>\n",
       "      <td>0.167962</td>\n",
       "      <td>0.037159</td>\n",
       "      <td>0.127554</td>\n",
       "      <td>0.030958</td>\n",
       "      <td>6.081237</td>\n",
       "    </tr>\n",
       "    <tr>\n",
       "      <th>4</th>\n",
       "      <td>5</td>\n",
       "      <td>0.040506</td>\n",
       "      <td>0.229474</td>\n",
       "      <td>28.048034</td>\n",
       "      <td>0.263806</td>\n",
       "      <td>2.032316</td>\n",
       "      <td>3.807333</td>\n",
       "      <td>0.003157</td>\n",
       "      <td>0.008766</td>\n",
       "      <td>4.893175</td>\n",
       "      <td>0.003186</td>\n",
       "      <td>0.015299</td>\n",
       "      <td>0.365402</td>\n",
       "      <td>2.481554</td>\n",
       "      <td>0.000054</td>\n",
       "      <td>8.162800</td>\n",
       "      <td>0.007340</td>\n",
       "      <td>0.025376</td>\n",
       "      <td>25.164052</td>\n",
       "      <td>0.025544</td>\n",
       "      <td>0.307553</td>\n",
       "      <td>5.729939</td>\n",
       "      <td>0.036404</td>\n",
       "      <td>2.074149</td>\n",
       "      <td>0.0</td>\n",
       "      <td>0.051810</td>\n",
       "      <td>0.351927</td>\n",
       "      <td>0.0</td>\n",
       "      <td>0.0</td>\n",
       "      <td>0.0</td>\n",
       "      <td>0.0</td>\n",
       "      <td>0.0</td>\n",
       "      <td>5.313522e-09</td>\n",
       "      <td>0.0</td>\n",
       "      <td>0.0</td>\n",
       "      <td>0.000031</td>\n",
       "      <td>0.0</td>\n",
       "      <td>0.0</td>\n",
       "      <td>0.0</td>\n",
       "      <td>0.0</td>\n",
       "      <td>0.104639</td>\n",
       "      <td>0.0</td>\n",
       "      <td>0.0</td>\n",
       "      <td>0.0</td>\n",
       "      <td>5.100578e-07</td>\n",
       "      <td>0.0</td>\n",
       "      <td>0.326129</td>\n",
       "      <td>0.0</td>\n",
       "      <td>0.0</td>\n",
       "      <td>0.834506</td>\n",
       "      <td>0.000247</td>\n",
       "      <td>0.000031</td>\n",
       "      <td>0.0</td>\n",
       "      <td>0.290951</td>\n",
       "      <td>0.398373</td>\n",
       "      <td>0.041159</td>\n",
       "      <td>0.178687</td>\n",
       "      <td>0.315804</td>\n",
       "      <td>1.673452</td>\n",
       "      <td>0.157133</td>\n",
       "      <td>0.054700</td>\n",
       "      <td>0.725214</td>\n",
       "      <td>0.374890</td>\n",
       "      <td>1.038776</td>\n",
       "    </tr>\n",
       "  </tbody>\n",
       "</table>\n",
       "</div>"
      ],
      "text/plain": [
       "   id  AG_Livestock_CH4  ...  LULUCF_OrganicSoil_CO2  LULUCF_OrganicSoil_N2O\n",
       "0   1          0.293190  ...                0.022903                4.771070\n",
       "1   2          0.009929  ...                0.103541               17.544440\n",
       "2   3          0.084564  ...                0.117854                8.549432\n",
       "3   4          0.089139  ...                0.030958                6.081237\n",
       "4   5          0.040506  ...                0.374890                1.038776\n",
       "\n",
       "[5 rows x 64 columns]"
      ]
     },
     "execution_count": 15,
     "metadata": {},
     "output_type": "execute_result"
    }
   ],
   "source": [
    "df_target_vars = pd.read_csv(targets_csv_path)\n",
    "df_target_vars.head()"
   ]
  },
  {
   "cell_type": "code",
   "execution_count": 16,
   "metadata": {},
   "outputs": [
    {
     "name": "stdout",
     "output_type": "stream",
     "text": [
      "No null values found\n"
     ]
    },
    {
     "data": {
      "text/plain": [
       "[]"
      ]
     },
     "execution_count": 16,
     "metadata": {},
     "output_type": "execute_result"
    }
   ],
   "source": [
    "# Checkinng null values\n",
    "helpers.check_null_values(df_target_vars)"
   ]
  },
  {
   "cell_type": "code",
   "execution_count": 17,
   "metadata": {},
   "outputs": [
    {
     "name": "stdout",
     "output_type": "stream",
     "text": [
      "The following columns have repeated values across all rows: \n",
      " ['IN_IndustrialProcesses_HFCc2f6', 'IN_IndustrialProcesses_HFCc3f8', 'IN_IndustrialProcesses_HFCc3h2f6', 'IN_IndustrialProcesses_HFCc3h3f5', 'IN_IndustrialProcesses_HFCc3hf7', 'IN_IndustrialProcesses_HFCc4f10', 'IN_IndustrialProcesses_HFCc4h5f5', 'IN_IndustrialProcesses_HFCc5f12', 'IN_IndustrialProcesses_HFCc5h2f10', 'IN_IndustrialProcesses_HFCc6f14', 'IN_IndustrialProcesses_HFCcc4f8', 'IN_IndustrialProcesses_HFCcf4', 'IN_IndustrialProcesses_HFCch2fchf2', 'IN_IndustrialProcesses_HFCch3cci2f', 'IN_IndustrialProcesses_HFCch3ccif2', 'IN_IndustrialProcesses_HFCch3f', 'IN_IndustrialProcesses_HFCchf2chf2', 'IN_IndustrialProcesses_HFCchf3', 'IN_IndustrialProcesses_SF6']\n",
      "Amount of cols with repeated values:  19\n"
     ]
    },
    {
     "data": {
      "text/plain": [
       "['IN_IndustrialProcesses_HFCc2f6',\n",
       " 'IN_IndustrialProcesses_HFCc3f8',\n",
       " 'IN_IndustrialProcesses_HFCc3h2f6',\n",
       " 'IN_IndustrialProcesses_HFCc3h3f5',\n",
       " 'IN_IndustrialProcesses_HFCc3hf7',\n",
       " 'IN_IndustrialProcesses_HFCc4f10',\n",
       " 'IN_IndustrialProcesses_HFCc4h5f5',\n",
       " 'IN_IndustrialProcesses_HFCc5f12',\n",
       " 'IN_IndustrialProcesses_HFCc5h2f10',\n",
       " 'IN_IndustrialProcesses_HFCc6f14',\n",
       " 'IN_IndustrialProcesses_HFCcc4f8',\n",
       " 'IN_IndustrialProcesses_HFCcf4',\n",
       " 'IN_IndustrialProcesses_HFCch2fchf2',\n",
       " 'IN_IndustrialProcesses_HFCch3cci2f',\n",
       " 'IN_IndustrialProcesses_HFCch3ccif2',\n",
       " 'IN_IndustrialProcesses_HFCch3f',\n",
       " 'IN_IndustrialProcesses_HFCchf2chf2',\n",
       " 'IN_IndustrialProcesses_HFCchf3',\n",
       " 'IN_IndustrialProcesses_SF6']"
      ]
     },
     "execution_count": 17,
     "metadata": {},
     "output_type": "execute_result"
    }
   ],
   "source": [
    "helpers.check_cols_with_same_val(df_target_vars)"
   ]
  },
  {
   "cell_type": "code",
   "execution_count": 18,
   "metadata": {},
   "outputs": [
    {
     "name": "stdout",
     "output_type": "stream",
     "text": [
      "36 out of 64 variables with variance < 0.01\n",
      "['AG_Livestock_CH4', 'EN_Building_CH4', 'EN_Building_N2O', 'EN_ElectricityHeat_CH4', 'EN_FugitiveEmissions_N2O', 'EN_ManufacturingConstruction_CH4', 'EN_ManufacturingConstruction_N2O', 'EN_Transportation_CH4', 'IN_IndustrialProcesses_CH4', 'IN_IndustrialProcesses_HFCc2f6', 'IN_IndustrialProcesses_HFCc3f8', 'IN_IndustrialProcesses_HFCc3h2f6', 'IN_IndustrialProcesses_HFCc3h3f5', 'IN_IndustrialProcesses_HFCc3hf7', 'IN_IndustrialProcesses_HFCc4f10', 'IN_IndustrialProcesses_HFCc4f6', 'IN_IndustrialProcesses_HFCc4h5f5', 'IN_IndustrialProcesses_HFCc5f12', 'IN_IndustrialProcesses_HFCc5f8', 'IN_IndustrialProcesses_HFCc5h2f10', 'IN_IndustrialProcesses_HFCc6f14', 'IN_IndustrialProcesses_HFCcc4f8', 'IN_IndustrialProcesses_HFCcf4', 'IN_IndustrialProcesses_HFCch2f2', 'IN_IndustrialProcesses_HFCch2fchf2', 'IN_IndustrialProcesses_HFCch3cci2f', 'IN_IndustrialProcesses_HFCch3ccif2', 'IN_IndustrialProcesses_HFCch3chf2', 'IN_IndustrialProcesses_HFCch3f', 'IN_IndustrialProcesses_HFCchf2chf2', 'IN_IndustrialProcesses_HFCchf3', 'IN_IndustrialProcesses_HFCother_fcs', 'IN_IndustrialProcesses_PFCpfcs', 'IN_IndustrialProcesses_SF6', 'Waste_SolidWaste_N2O', 'LULUCF_ForestLand_CH4']\n"
     ]
    },
    {
     "data": {
      "text/plain": [
       "['AG_Livestock_CH4',\n",
       " 'EN_Building_CH4',\n",
       " 'EN_Building_N2O',\n",
       " 'EN_ElectricityHeat_CH4',\n",
       " 'EN_FugitiveEmissions_N2O',\n",
       " 'EN_ManufacturingConstruction_CH4',\n",
       " 'EN_ManufacturingConstruction_N2O',\n",
       " 'EN_Transportation_CH4',\n",
       " 'IN_IndustrialProcesses_CH4',\n",
       " 'IN_IndustrialProcesses_HFCc2f6',\n",
       " 'IN_IndustrialProcesses_HFCc3f8',\n",
       " 'IN_IndustrialProcesses_HFCc3h2f6',\n",
       " 'IN_IndustrialProcesses_HFCc3h3f5',\n",
       " 'IN_IndustrialProcesses_HFCc3hf7',\n",
       " 'IN_IndustrialProcesses_HFCc4f10',\n",
       " 'IN_IndustrialProcesses_HFCc4f6',\n",
       " 'IN_IndustrialProcesses_HFCc4h5f5',\n",
       " 'IN_IndustrialProcesses_HFCc5f12',\n",
       " 'IN_IndustrialProcesses_HFCc5f8',\n",
       " 'IN_IndustrialProcesses_HFCc5h2f10',\n",
       " 'IN_IndustrialProcesses_HFCc6f14',\n",
       " 'IN_IndustrialProcesses_HFCcc4f8',\n",
       " 'IN_IndustrialProcesses_HFCcf4',\n",
       " 'IN_IndustrialProcesses_HFCch2f2',\n",
       " 'IN_IndustrialProcesses_HFCch2fchf2',\n",
       " 'IN_IndustrialProcesses_HFCch3cci2f',\n",
       " 'IN_IndustrialProcesses_HFCch3ccif2',\n",
       " 'IN_IndustrialProcesses_HFCch3chf2',\n",
       " 'IN_IndustrialProcesses_HFCch3f',\n",
       " 'IN_IndustrialProcesses_HFCchf2chf2',\n",
       " 'IN_IndustrialProcesses_HFCchf3',\n",
       " 'IN_IndustrialProcesses_HFCother_fcs',\n",
       " 'IN_IndustrialProcesses_PFCpfcs',\n",
       " 'IN_IndustrialProcesses_SF6',\n",
       " 'Waste_SolidWaste_N2O',\n",
       " 'LULUCF_ForestLand_CH4']"
      ]
     },
     "execution_count": 18,
     "metadata": {},
     "output_type": "execute_result"
    }
   ],
   "source": [
    "helpers.get_lowest_variance_cols(df_target_vars)"
   ]
  },
  {
   "cell_type": "markdown",
   "metadata": {},
   "source": [
    "## Addressing outliers\n",
    "Using IQR to cap the outliers"
   ]
  },
  {
   "cell_type": "code",
   "execution_count": 19,
   "metadata": {},
   "outputs": [],
   "source": [
    "df_attributes_capped = helpers.cap_outliers_iqr(df_attributes)"
   ]
  },
  {
   "cell_type": "code",
   "execution_count": 20,
   "metadata": {},
   "outputs": [
    {
     "name": "stdout",
     "output_type": "stream",
     "text": [
      "(100, 1473)\n",
      "(100, 1473)\n"
     ]
    }
   ],
   "source": [
    "print(df_attributes.shape)\n",
    "print(df_attributes_capped.shape)"
   ]
  },
  {
   "cell_type": "code",
   "execution_count": 21,
   "metadata": {},
   "outputs": [],
   "source": [
    "df_target_vars_capped = helpers.cap_outliers_iqr(df_target_vars)"
   ]
  },
  {
   "cell_type": "code",
   "execution_count": 22,
   "metadata": {},
   "outputs": [
    {
     "name": "stdout",
     "output_type": "stream",
     "text": [
      "(100, 64)\n",
      "(100, 64)\n"
     ]
    }
   ],
   "source": [
    "print(df_target_vars.shape)\n",
    "print(df_target_vars_capped.shape)"
   ]
  },
  {
   "cell_type": "code",
   "execution_count": 23,
   "metadata": {},
   "outputs": [
    {
     "data": {
      "text/plain": [
       "<Axes: >"
      ]
     },
     "execution_count": 23,
     "metadata": {},
     "output_type": "execute_result"
    },
    {
     "data": {
      "image/png": "[encoded data removed]",
      "text/plain": [
       "<Figure size 640x480 with 1 Axes>"
      ]
     },
     "metadata": {},
     "output_type": "display_data"
    }
   ],
   "source": [
    "df_target_vars_capped['AG_Crops_CO2'].hist()"
   ]
  },
  {
   "cell_type": "markdown",
   "metadata": {},
   "source": [
    "## ML Part"
   ]
  },
  {
   "cell_type": "markdown",
   "metadata": {},
   "source": [
    "### Feature importance with RF (Testing with FGTV and without dealing with outliers)"
   ]
  },
  {
   "cell_type": "code",
   "execution_count": 24,
   "metadata": {},
   "outputs": [],
   "source": [
    "X = df_attributes_capped.drop(columns=['id'])\n",
    "y = df_target_vars_capped['AG_Crops_CO2']"
   ]
  },
  {
   "cell_type": "code",
   "execution_count": 25,
   "metadata": {},
   "outputs": [
    {
     "data": {
      "text/plain": [
       "564.9600361936484"
      ]
     },
     "execution_count": 25,
     "metadata": {},
     "output_type": "execute_result"
    }
   ],
   "source": [
    "y.var()"
   ]
  },
  {
   "cell_type": "code",
   "execution_count": 26,
   "metadata": {},
   "outputs": [
    {
     "data": {
      "text/plain": [
       "23.768887988158983"
      ]
     },
     "execution_count": 26,
     "metadata": {},
     "output_type": "execute_result"
    }
   ],
   "source": [
    "y.std()"
   ]
  },
  {
   "cell_type": "code",
   "execution_count": 27,
   "metadata": {},
   "outputs": [
    {
     "data": {
      "text/plain": [
       "39.019542192551484"
      ]
     },
     "execution_count": 27,
     "metadata": {},
     "output_type": "execute_result"
    }
   ],
   "source": [
    "y.quantile(0.75) - y.quantile(0.25)"
   ]
  },
  {
   "cell_type": "code",
   "execution_count": 28,
   "metadata": {},
   "outputs": [
    {
     "data": {
      "text/plain": [
       "<Axes: >"
      ]
     },
     "execution_count": 28,
     "metadata": {},
     "output_type": "execute_result"
    },
    {
     "data": {
      "image/png": "[encoded data removed]",
      "text/plain": [
       "<Figure size 640x480 with 1 Axes>"
      ]
     },
     "metadata": {},
     "output_type": "display_data"
    }
   ],
   "source": [
    "y.hist()"
   ]
  },
  {
   "cell_type": "code",
   "execution_count": 33,
   "metadata": {},
   "outputs": [
    {
     "name": "stdout",
     "output_type": "stream",
     "text": [
      "Target variable stats:\n",
      "Var: 564.9600361936484, StDev: 23.768887988158983, IQR: 39.019542192551484\n",
      "Evaluation Metrics:\n",
      "- Mean Squared Error: 541.6964430317421\n",
      "- R2 Score: -0.6128491595132621\n"
     ]
    },
    {
     "data": {
      "image/png": "[encoded data removed]",
      "text/plain": [
       "<Figure size 1200x800 with 1 Axes>"
      ]
     },
     "metadata": {},
     "output_type": "display_data"
    }
   ],
   "source": [
    "from utils.utils import FeatureImportanceRF\n",
    "\n",
    "feature_importance_rd = FeatureImportanceRF(X, y)\n",
    "feature_names = feature_importance_rd.run_feature_selector()"
   ]
  },
  {
   "cell_type": "markdown",
   "metadata": {},
   "source": [
    "#"
   ]
  }
 ],
 "metadata": {
  "kernelspec": {
   "display_name": "base",
   "language": "python",
   "name": "python3"
  },
  "language_info": {
   "codemirror_mode": {
    "name": "ipython",
    "version": 3
   },
   "file_extension": ".py",
   "mimetype": "text/x-python",
   "name": "python",
   "nbconvert_exporter": "python",
   "pygments_lexer": "ipython3",
   "version": "3.11.7"
  }
 },
 "nbformat": 4,
 "nbformat_minor": 2
}
